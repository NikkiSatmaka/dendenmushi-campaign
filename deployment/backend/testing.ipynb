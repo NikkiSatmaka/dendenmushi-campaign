{
 "cells": [
  {
   "cell_type": "code",
   "execution_count": 18,
   "metadata": {},
   "outputs": [
    {
     "data": {
      "text/plain": [
       "{'result': {'class': '0', 'class_name': 'Not Subscribe'}, 'success': True}"
      ]
     },
     "execution_count": 18,
     "metadata": {},
     "output_type": "execute_result"
    }
   ],
   "source": [
    "import requests\n",
    "\n",
    "# URL = \"http://127.0.0.1:5000/prediction/predict\"\n",
    "URL = \"https://bank-marketing-backend.herokuapp.com/prediction/predict\"\n",
    "\n",
    "data = {\n",
    "    'age': 56,\n",
    "    'job': 'Housemaid',\n",
    "    'marital': 'Married',\n",
    "    'education': 'Unknown',\n",
    "    'default': 'No',\n",
    "    'housing': 'No',\n",
    "    'loan': 'No',\n",
    "    'contact': 'Telephone',\n",
    "    'month': 'January',\n",
    "    'day_of_week': 'Monday',\n",
    "    'duration': 261,\n",
    "    'campaign': 1,\n",
    "    'pdays': 999,\n",
    "    'previous': 10,\n",
    "    'poutcome': 'Nonexistent',\n",
    "    'emp_var_rate': 1.1,\n",
    "    'cons_price_idx': 93.994,\n",
    "    'cons_conf_idx': -36.4,\n",
    "    'euribor3m': 4.857,\n",
    "    'nr_employed': 5191.0,\n",
    "    'y': 'no'\n",
    "}\n",
    "\n",
    "r = requests.post(URL, json=data)\n",
    "\n",
    "data = r.json()\n",
    "\n",
    "data"
   ]
  }
 ],
 "metadata": {
  "interpreter": {
   "hash": "57744ed932a5da4ffb7d5879d9b65170d321805180660db910f737e8fd70cf58"
  },
  "kernelspec": {
   "display_name": "Python 3.8.13",
   "language": "python",
   "name": "python3"
  },
  "language_info": {
   "codemirror_mode": {
    "name": "ipython",
    "version": 3
   },
   "file_extension": ".py",
   "mimetype": "text/x-python",
   "name": "python",
   "nbconvert_exporter": "python",
   "pygments_lexer": "ipython3",
   "version": "3.8.13"
  },
  "orig_nbformat": 4
 },
 "nbformat": 4,
 "nbformat_minor": 2
}
