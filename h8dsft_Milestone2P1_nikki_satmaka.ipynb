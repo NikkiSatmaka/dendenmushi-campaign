{
 "cells": [
  {
   "cell_type": "markdown",
   "metadata": {},
   "source": [
    "# 1. Introduction\n",
    "\n",
    "Nikki Satmaka - Batch 11"
   ]
  },
  {
   "cell_type": "markdown",
   "metadata": {},
   "source": [
    "## Description\n",
    "\n",
    "Dataset is taken from [UCI](https://archive.ics.uci.edu/ml/datasets/bank+marketing)\n",
    "\n",
    "Context:\n",
    "\n",
    "This dataset contains \n",
    "\n",
    "The data is related with direct marketing campaigns of a Portuguese banking institution. The marketing campaigns were based on phone calls. Often, more than one contact to the same client was required, in order to access if the product (bank term deposit) would be ('yes') or not ('no') subscribed.\n",
    "\n",
    "Input variables:\n",
    "##### bank client data:\n",
    "1. `age` (numeric)\n",
    "2. `job` : type of job (categorical: \"admin.\",\"blue-collar\",\"entrepreneur\",\"housemaid\",\"management\",\"retired\",\"self-employed\",\"services\",\"student\",\"technician\",\"unemployed\",\"unknown\")\n",
    "3. `marital` : marital status (categorical: \"divorced\",\"married\",\"single\",\"unknown\"; note: \"divorced\" means divorced or widowed)\n",
    "4. `education` (categorical: \"basic.4y\",\"basic.6y\",\"basic.9y\",\"high.school\",\"illiterate\",\"professional.course\",\"university.degree\",\"unknown\")\n",
    "5. `default`: has credit in default? (categorical: \"no\",\"yes\",\"unknown\")\n",
    "6. `housing`: has housing loan? (categorical: \"no\",\"yes\",\"unknown\")\n",
    "7. `loan`: has personal loan? (categorical: \"no\",\"yes\",\"unknown\")\n",
    "##### related with the last contact of the current campaign:\n",
    "8. `contact`: contact communication type (categorical: \"cellular\",\"telephone\") \n",
    "9. `month`: last contact month of year (categorical: \"jan\", \"feb\", \"mar\", ..., \"nov\", \"dec\")\n",
    "10. `day_of_week`: last contact day of the week (categorical: \"mon\",\"tue\",\"wed\",\"thu\",\"fri\")\n",
    "11. `duration`: last contact duration, in seconds (numeric). Important note:  this attribute highly affects the output target (e.g., if duration=0 then y=\"no\"). Yet, the duration is not known before a call is performed. Also, after the end of the call y is obviously known. Thus, this input should only be included for benchmark purposes and should be discarded if the intention is to have a realistic predictive model.\n",
    "##### other attributes:\n",
    "12. `campaign`: number of contacts performed during this campaign and for this client (numeric, includes last contact)\n",
    "13. `pdays`: number of days that passed by after the client was last contacted from a previous campaign (numeric; 999 means client was not previously contacted)\n",
    "14. `previous`: number of contacts performed before this campaign and for this client (numeric)\n",
    "15. `poutcome`: outcome of the previous marketing campaign (categorical: \"failure\",\"nonexistent\",\"success\")\n",
    "##### social and economic context attributes\n",
    "16. `emp.var.rate`: employment variation rate - quarterly indicator (numeric)\n",
    "17. `cons.price.idx`: consumer price index - monthly indicator (numeric)     \n",
    "18. `cons.conf.idx`: consumer confidence index - monthly indicator (numeric)     \n",
    "19. `euribor3m`: euribor 3 month rate - daily indicator (numeric)\n",
    "20. `nr.employed`: number of employees - quarterly indicator (numeric)\n",
    "\n",
    "##### Output variable (desired target):\n",
    "21. `y` - has the client subscribed a term deposit? (binary: \"yes\",\"no\")\n",
    "\n",
    "### Objective\n",
    "\n",
    "- pass\n",
    "\n",
    "### Problem Statement\n",
    "\n",
    "- pass"
   ]
  },
  {
   "cell_type": "markdown",
   "metadata": {},
   "source": [
    "# 2. Importing Libraries"
   ]
  },
  {
   "cell_type": "code",
   "execution_count": 58,
   "metadata": {},
   "outputs": [],
   "source": [
    "# importing libraries\n",
    "import numpy as np\n",
    "import pandas as pd\n",
    "import matplotlib.pyplot as plt\n",
    "import seaborn as sns\n",
    "from pandas.plotting import scatter_matrix\n",
    "from pathlib import Path\n",
    "\n",
    "# Useful functions\n",
    "from packages.checker import check_missing\n",
    "from packages.outlier_handling import check_outlier, outlier_summary\n",
    "from packages.outlier_handling import trim_cap_outliers\n",
    "\n",
    "from pandas_profiling import ProfileReport\n",
    "\n",
    "import joblib\n",
    "\n",
    "import warnings\n",
    "warnings.filterwarnings('ignore')\n",
    "\n",
    "# For Handling outlier\n",
    "from feature_engine.outliers import OutlierTrimmer\n",
    "from feature_engine.outliers import Winsorizer\n",
    "from feature_engine.outliers import ArbitraryOutlierCapper\n",
    "from imblearn.over_sampling import SMOTE\n",
    "\n",
    "# For Handling Missing Values\n",
    "from feature_engine.imputation import MeanMedianImputer\n",
    "from feature_engine.imputation import RandomSampleImputer\n",
    "from feature_engine.imputation import CategoricalImputer\n",
    "from feature_engine.imputation import ArbitraryNumberImputer\n",
    "\n",
    "# For Data Preprocessing\n",
    "# from sklearn.pipeline import Pipeline\n",
    "from imblearn.pipeline import Pipeline\n",
    "from sklearn.compose import ColumnTransformer\n",
    "\n",
    "# For Classification Problems\n",
    "from sklearn.linear_model import LogisticRegression\n",
    "from sklearn.svm import SVC\n",
    "from sklearn.tree import DecisionTreeClassifier\n",
    "from sklearn.ensemble import RandomForestClassifier\n",
    "from sklearn.neighbors import KNeighborsClassifier\n",
    "from sklearn.naive_bayes import GaussianNB\n",
    "from sklearn.ensemble import AdaBoostClassifier\n",
    "from xgboost import XGBClassifier\n",
    "\n",
    "from sklearn.decomposition import PCA\n",
    "\n",
    "# Hyperparameter Tuning\n",
    "from sklearn.model_selection import GridSearchCV\n",
    "from sklearn.model_selection import RandomizedSearchCV\n",
    "\n",
    "# Split Dataset and Standarize the Datasets\n",
    "from sklearn.model_selection import train_test_split\n",
    "from sklearn.model_selection import cross_validate\n",
    "from sklearn.preprocessing import StandardScaler\n",
    "from sklearn.preprocessing import MinMaxScaler\n",
    "from sklearn.preprocessing import OneHotEncoder\n",
    "from sklearn.preprocessing import PowerTransformer\n",
    "from sklearn.preprocessing import RobustScaler\n",
    "from sklearn.preprocessing import OrdinalEncoder\n",
    "from sklearn.preprocessing import LabelEncoder\n",
    "from imblearn.over_sampling import SMOTENC\n",
    "from sklearn.preprocessing import normalize\n",
    "\n",
    "# Evaluate Classification Models\n",
    "from sklearn.metrics import roc_curve\n",
    "from sklearn.metrics import classification_report\n",
    "from sklearn.metrics import auc\n",
    "from sklearn.metrics import f1_score\n",
    "from sklearn.metrics import precision_score\n",
    "from sklearn.metrics import recall_score\n",
    "from sklearn.metrics import roc_auc_score\n",
    "\n",
    "\n",
    "\n",
    "\n",
    "pd.set_option('display.precision', 2)\n",
    "\n",
    "sns.set_theme(style='darkgrid', palette='Set1')\n",
    "\n",
    "%matplotlib inline"
   ]
  },
  {
   "cell_type": "markdown",
   "metadata": {},
   "source": [
    "### Useful Functions"
   ]
  },
  {
   "cell_type": "code",
   "execution_count": 2,
   "metadata": {
    "id": "HuJda0YTS38t"
   },
   "outputs": [],
   "source": [
    "def impute_na(data, variable, mean_value, median_value):\n",
    "  \"\"\"\n",
    "  Function to Fill Missing Values with Zeroes, Mean, and Median\n",
    "  \"\"\"\n",
    "  data[variable+'_mean'] = data[variable].fillna(mean_value)\n",
    "  data[variable+'_median'] = data[variable].fillna(median_value)\n",
    "  data[variable+'_zero'] = data[variable].fillna(0)\n",
    "  \n",
    "  return data"
   ]
  },
  {
   "cell_type": "code",
   "execution_count": 3,
   "metadata": {},
   "outputs": [],
   "source": [
    "def check_missing_special(data):\n",
    "    \"\"\"\n",
    "    Function to check special missing values in dataset\n",
    "    which has the value 'unknown', 'nonexistent', or 999\n",
    "    \n",
    "    Parameters:\n",
    "    -----------\n",
    "    data (dataframe): dataframe to be checked\n",
    "\n",
    "    Returns:\n",
    "    --------\n",
    "    missing_values (dataframe): dataframe with missing values\n",
    "    \"\"\"\n",
    "    # create dictionary to store missing values\n",
    "    missing_values = {\n",
    "        'feats': [],\n",
    "        'tot_missing': [],\n",
    "        'tot_missing_pct': []\n",
    "    }\n",
    "\n",
    "    # Loop through the columns\n",
    "    for col in df.columns:\n",
    "        if 'unknown' not in df[col].values and \\\n",
    "            'nonexistent' not in df[col].values and \\\n",
    "                999 not in df[col].values:\n",
    "            continue\n",
    "        if 'unknown' in df[col].values:\n",
    "            tot_missval = len(df[df[col] == 'unknown'])\n",
    "        if 999 in df[col].values:\n",
    "            tot_missval = len(df[df[col] == 999])\n",
    "\n",
    "        missing_values['feats'].append(col)\n",
    "        missing_values['tot_missing'].append(tot_missval)\n",
    "        missing_values['tot_missing_pct'].append(tot_missval / len(df) * 100)\n",
    "\n",
    "    # create a dataframe with the missing values dictionary\n",
    "    missing_values = pd.DataFrame(missing_values)\n",
    "\n",
    "    return missing_values"
   ]
  },
  {
   "cell_type": "markdown",
   "metadata": {},
   "source": [
    "# 3. Data Loading"
   ]
  },
  {
   "cell_type": "code",
   "execution_count": 4,
   "metadata": {},
   "outputs": [
    {
     "data": {
      "text/html": [
       "<div>\n",
       "<style scoped>\n",
       "    .dataframe tbody tr th:only-of-type {\n",
       "        vertical-align: middle;\n",
       "    }\n",
       "\n",
       "    .dataframe tbody tr th {\n",
       "        vertical-align: top;\n",
       "    }\n",
       "\n",
       "    .dataframe thead th {\n",
       "        text-align: right;\n",
       "    }\n",
       "</style>\n",
       "<table border=\"1\" class=\"dataframe\">\n",
       "  <thead>\n",
       "    <tr style=\"text-align: right;\">\n",
       "      <th></th>\n",
       "      <th>age</th>\n",
       "      <th>job</th>\n",
       "      <th>marital</th>\n",
       "      <th>education</th>\n",
       "      <th>default</th>\n",
       "      <th>housing</th>\n",
       "      <th>loan</th>\n",
       "      <th>contact</th>\n",
       "      <th>month</th>\n",
       "      <th>day_of_week</th>\n",
       "      <th>...</th>\n",
       "      <th>campaign</th>\n",
       "      <th>pdays</th>\n",
       "      <th>previous</th>\n",
       "      <th>poutcome</th>\n",
       "      <th>emp_var_rate</th>\n",
       "      <th>cons_price_idx</th>\n",
       "      <th>cons_conf_idx</th>\n",
       "      <th>euribor3m</th>\n",
       "      <th>nr_employed</th>\n",
       "      <th>y</th>\n",
       "    </tr>\n",
       "  </thead>\n",
       "  <tbody>\n",
       "    <tr>\n",
       "      <th>0</th>\n",
       "      <td>56</td>\n",
       "      <td>housemaid</td>\n",
       "      <td>married</td>\n",
       "      <td>basic.4y</td>\n",
       "      <td>no</td>\n",
       "      <td>no</td>\n",
       "      <td>no</td>\n",
       "      <td>telephone</td>\n",
       "      <td>may</td>\n",
       "      <td>mon</td>\n",
       "      <td>...</td>\n",
       "      <td>1</td>\n",
       "      <td>999</td>\n",
       "      <td>0</td>\n",
       "      <td>nonexistent</td>\n",
       "      <td>1.1</td>\n",
       "      <td>93.99</td>\n",
       "      <td>-36.4</td>\n",
       "      <td>4.86</td>\n",
       "      <td>5191.0</td>\n",
       "      <td>no</td>\n",
       "    </tr>\n",
       "    <tr>\n",
       "      <th>1</th>\n",
       "      <td>57</td>\n",
       "      <td>services</td>\n",
       "      <td>married</td>\n",
       "      <td>high.school</td>\n",
       "      <td>unknown</td>\n",
       "      <td>no</td>\n",
       "      <td>no</td>\n",
       "      <td>telephone</td>\n",
       "      <td>may</td>\n",
       "      <td>mon</td>\n",
       "      <td>...</td>\n",
       "      <td>1</td>\n",
       "      <td>999</td>\n",
       "      <td>0</td>\n",
       "      <td>nonexistent</td>\n",
       "      <td>1.1</td>\n",
       "      <td>93.99</td>\n",
       "      <td>-36.4</td>\n",
       "      <td>4.86</td>\n",
       "      <td>5191.0</td>\n",
       "      <td>no</td>\n",
       "    </tr>\n",
       "    <tr>\n",
       "      <th>2</th>\n",
       "      <td>37</td>\n",
       "      <td>services</td>\n",
       "      <td>married</td>\n",
       "      <td>high.school</td>\n",
       "      <td>no</td>\n",
       "      <td>yes</td>\n",
       "      <td>no</td>\n",
       "      <td>telephone</td>\n",
       "      <td>may</td>\n",
       "      <td>mon</td>\n",
       "      <td>...</td>\n",
       "      <td>1</td>\n",
       "      <td>999</td>\n",
       "      <td>0</td>\n",
       "      <td>nonexistent</td>\n",
       "      <td>1.1</td>\n",
       "      <td>93.99</td>\n",
       "      <td>-36.4</td>\n",
       "      <td>4.86</td>\n",
       "      <td>5191.0</td>\n",
       "      <td>no</td>\n",
       "    </tr>\n",
       "    <tr>\n",
       "      <th>3</th>\n",
       "      <td>40</td>\n",
       "      <td>admin.</td>\n",
       "      <td>married</td>\n",
       "      <td>basic.6y</td>\n",
       "      <td>no</td>\n",
       "      <td>no</td>\n",
       "      <td>no</td>\n",
       "      <td>telephone</td>\n",
       "      <td>may</td>\n",
       "      <td>mon</td>\n",
       "      <td>...</td>\n",
       "      <td>1</td>\n",
       "      <td>999</td>\n",
       "      <td>0</td>\n",
       "      <td>nonexistent</td>\n",
       "      <td>1.1</td>\n",
       "      <td>93.99</td>\n",
       "      <td>-36.4</td>\n",
       "      <td>4.86</td>\n",
       "      <td>5191.0</td>\n",
       "      <td>no</td>\n",
       "    </tr>\n",
       "    <tr>\n",
       "      <th>4</th>\n",
       "      <td>56</td>\n",
       "      <td>services</td>\n",
       "      <td>married</td>\n",
       "      <td>high.school</td>\n",
       "      <td>no</td>\n",
       "      <td>no</td>\n",
       "      <td>yes</td>\n",
       "      <td>telephone</td>\n",
       "      <td>may</td>\n",
       "      <td>mon</td>\n",
       "      <td>...</td>\n",
       "      <td>1</td>\n",
       "      <td>999</td>\n",
       "      <td>0</td>\n",
       "      <td>nonexistent</td>\n",
       "      <td>1.1</td>\n",
       "      <td>93.99</td>\n",
       "      <td>-36.4</td>\n",
       "      <td>4.86</td>\n",
       "      <td>5191.0</td>\n",
       "      <td>no</td>\n",
       "    </tr>\n",
       "  </tbody>\n",
       "</table>\n",
       "<p>5 rows × 21 columns</p>\n",
       "</div>"
      ],
      "text/plain": [
       "   age        job  marital    education  default housing loan    contact  \\\n",
       "0   56  housemaid  married     basic.4y       no      no   no  telephone   \n",
       "1   57   services  married  high.school  unknown      no   no  telephone   \n",
       "2   37   services  married  high.school       no     yes   no  telephone   \n",
       "3   40     admin.  married     basic.6y       no      no   no  telephone   \n",
       "4   56   services  married  high.school       no      no  yes  telephone   \n",
       "\n",
       "  month day_of_week  ...  campaign  pdays  previous     poutcome emp_var_rate  \\\n",
       "0   may         mon  ...         1    999         0  nonexistent          1.1   \n",
       "1   may         mon  ...         1    999         0  nonexistent          1.1   \n",
       "2   may         mon  ...         1    999         0  nonexistent          1.1   \n",
       "3   may         mon  ...         1    999         0  nonexistent          1.1   \n",
       "4   may         mon  ...         1    999         0  nonexistent          1.1   \n",
       "\n",
       "   cons_price_idx  cons_conf_idx  euribor3m  nr_employed   y  \n",
       "0           93.99          -36.4       4.86       5191.0  no  \n",
       "1           93.99          -36.4       4.86       5191.0  no  \n",
       "2           93.99          -36.4       4.86       5191.0  no  \n",
       "3           93.99          -36.4       4.86       5191.0  no  \n",
       "4           93.99          -36.4       4.86       5191.0  no  \n",
       "\n",
       "[5 rows x 21 columns]"
      ]
     },
     "execution_count": 4,
     "metadata": {},
     "output_type": "execute_result"
    }
   ],
   "source": [
    "# load dataset\n",
    "df_ori = pd.read_csv('data/bank-additional-full.csv', sep=';')\n",
    "\n",
    "# some column names have '.' in them, so replace with '_'\n",
    "df_ori.columns = df_ori.columns.str.replace('.', '_')\n",
    "\n",
    "# make a copy of the original dataframe\n",
    "df = df_ori.copy()\n",
    "\n",
    "# display the first 5 entries of the data\n",
    "df.head()"
   ]
  },
  {
   "cell_type": "code",
   "execution_count": 5,
   "metadata": {},
   "outputs": [
    {
     "data": {
      "text/html": [
       "<div>\n",
       "<style scoped>\n",
       "    .dataframe tbody tr th:only-of-type {\n",
       "        vertical-align: middle;\n",
       "    }\n",
       "\n",
       "    .dataframe tbody tr th {\n",
       "        vertical-align: top;\n",
       "    }\n",
       "\n",
       "    .dataframe thead th {\n",
       "        text-align: right;\n",
       "    }\n",
       "</style>\n",
       "<table border=\"1\" class=\"dataframe\">\n",
       "  <thead>\n",
       "    <tr style=\"text-align: right;\">\n",
       "      <th></th>\n",
       "      <th>age</th>\n",
       "      <th>job</th>\n",
       "      <th>marital</th>\n",
       "      <th>education</th>\n",
       "      <th>default</th>\n",
       "      <th>housing</th>\n",
       "      <th>loan</th>\n",
       "      <th>contact</th>\n",
       "      <th>month</th>\n",
       "      <th>day_of_week</th>\n",
       "      <th>...</th>\n",
       "      <th>campaign</th>\n",
       "      <th>pdays</th>\n",
       "      <th>previous</th>\n",
       "      <th>poutcome</th>\n",
       "      <th>emp_var_rate</th>\n",
       "      <th>cons_price_idx</th>\n",
       "      <th>cons_conf_idx</th>\n",
       "      <th>euribor3m</th>\n",
       "      <th>nr_employed</th>\n",
       "      <th>y</th>\n",
       "    </tr>\n",
       "  </thead>\n",
       "  <tbody>\n",
       "    <tr>\n",
       "      <th>41183</th>\n",
       "      <td>73</td>\n",
       "      <td>retired</td>\n",
       "      <td>married</td>\n",
       "      <td>professional.course</td>\n",
       "      <td>no</td>\n",
       "      <td>yes</td>\n",
       "      <td>no</td>\n",
       "      <td>cellular</td>\n",
       "      <td>nov</td>\n",
       "      <td>fri</td>\n",
       "      <td>...</td>\n",
       "      <td>1</td>\n",
       "      <td>999</td>\n",
       "      <td>0</td>\n",
       "      <td>nonexistent</td>\n",
       "      <td>-1.1</td>\n",
       "      <td>94.77</td>\n",
       "      <td>-50.8</td>\n",
       "      <td>1.03</td>\n",
       "      <td>4963.6</td>\n",
       "      <td>yes</td>\n",
       "    </tr>\n",
       "    <tr>\n",
       "      <th>41184</th>\n",
       "      <td>46</td>\n",
       "      <td>blue-collar</td>\n",
       "      <td>married</td>\n",
       "      <td>professional.course</td>\n",
       "      <td>no</td>\n",
       "      <td>no</td>\n",
       "      <td>no</td>\n",
       "      <td>cellular</td>\n",
       "      <td>nov</td>\n",
       "      <td>fri</td>\n",
       "      <td>...</td>\n",
       "      <td>1</td>\n",
       "      <td>999</td>\n",
       "      <td>0</td>\n",
       "      <td>nonexistent</td>\n",
       "      <td>-1.1</td>\n",
       "      <td>94.77</td>\n",
       "      <td>-50.8</td>\n",
       "      <td>1.03</td>\n",
       "      <td>4963.6</td>\n",
       "      <td>no</td>\n",
       "    </tr>\n",
       "    <tr>\n",
       "      <th>41185</th>\n",
       "      <td>56</td>\n",
       "      <td>retired</td>\n",
       "      <td>married</td>\n",
       "      <td>university.degree</td>\n",
       "      <td>no</td>\n",
       "      <td>yes</td>\n",
       "      <td>no</td>\n",
       "      <td>cellular</td>\n",
       "      <td>nov</td>\n",
       "      <td>fri</td>\n",
       "      <td>...</td>\n",
       "      <td>2</td>\n",
       "      <td>999</td>\n",
       "      <td>0</td>\n",
       "      <td>nonexistent</td>\n",
       "      <td>-1.1</td>\n",
       "      <td>94.77</td>\n",
       "      <td>-50.8</td>\n",
       "      <td>1.03</td>\n",
       "      <td>4963.6</td>\n",
       "      <td>no</td>\n",
       "    </tr>\n",
       "    <tr>\n",
       "      <th>41186</th>\n",
       "      <td>44</td>\n",
       "      <td>technician</td>\n",
       "      <td>married</td>\n",
       "      <td>professional.course</td>\n",
       "      <td>no</td>\n",
       "      <td>no</td>\n",
       "      <td>no</td>\n",
       "      <td>cellular</td>\n",
       "      <td>nov</td>\n",
       "      <td>fri</td>\n",
       "      <td>...</td>\n",
       "      <td>1</td>\n",
       "      <td>999</td>\n",
       "      <td>0</td>\n",
       "      <td>nonexistent</td>\n",
       "      <td>-1.1</td>\n",
       "      <td>94.77</td>\n",
       "      <td>-50.8</td>\n",
       "      <td>1.03</td>\n",
       "      <td>4963.6</td>\n",
       "      <td>yes</td>\n",
       "    </tr>\n",
       "    <tr>\n",
       "      <th>41187</th>\n",
       "      <td>74</td>\n",
       "      <td>retired</td>\n",
       "      <td>married</td>\n",
       "      <td>professional.course</td>\n",
       "      <td>no</td>\n",
       "      <td>yes</td>\n",
       "      <td>no</td>\n",
       "      <td>cellular</td>\n",
       "      <td>nov</td>\n",
       "      <td>fri</td>\n",
       "      <td>...</td>\n",
       "      <td>3</td>\n",
       "      <td>999</td>\n",
       "      <td>1</td>\n",
       "      <td>failure</td>\n",
       "      <td>-1.1</td>\n",
       "      <td>94.77</td>\n",
       "      <td>-50.8</td>\n",
       "      <td>1.03</td>\n",
       "      <td>4963.6</td>\n",
       "      <td>no</td>\n",
       "    </tr>\n",
       "  </tbody>\n",
       "</table>\n",
       "<p>5 rows × 21 columns</p>\n",
       "</div>"
      ],
      "text/plain": [
       "       age          job  marital            education default housing loan  \\\n",
       "41183   73      retired  married  professional.course      no     yes   no   \n",
       "41184   46  blue-collar  married  professional.course      no      no   no   \n",
       "41185   56      retired  married    university.degree      no     yes   no   \n",
       "41186   44   technician  married  professional.course      no      no   no   \n",
       "41187   74      retired  married  professional.course      no     yes   no   \n",
       "\n",
       "        contact month day_of_week  ...  campaign  pdays  previous  \\\n",
       "41183  cellular   nov         fri  ...         1    999         0   \n",
       "41184  cellular   nov         fri  ...         1    999         0   \n",
       "41185  cellular   nov         fri  ...         2    999         0   \n",
       "41186  cellular   nov         fri  ...         1    999         0   \n",
       "41187  cellular   nov         fri  ...         3    999         1   \n",
       "\n",
       "          poutcome emp_var_rate  cons_price_idx  cons_conf_idx  euribor3m  \\\n",
       "41183  nonexistent         -1.1           94.77          -50.8       1.03   \n",
       "41184  nonexistent         -1.1           94.77          -50.8       1.03   \n",
       "41185  nonexistent         -1.1           94.77          -50.8       1.03   \n",
       "41186  nonexistent         -1.1           94.77          -50.8       1.03   \n",
       "41187      failure         -1.1           94.77          -50.8       1.03   \n",
       "\n",
       "       nr_employed    y  \n",
       "41183       4963.6  yes  \n",
       "41184       4963.6   no  \n",
       "41185       4963.6   no  \n",
       "41186       4963.6  yes  \n",
       "41187       4963.6   no  \n",
       "\n",
       "[5 rows x 21 columns]"
      ]
     },
     "execution_count": 5,
     "metadata": {},
     "output_type": "execute_result"
    }
   ],
   "source": [
    "# display the last 5 entries of the data\n",
    "df.tail()"
   ]
  },
  {
   "cell_type": "markdown",
   "metadata": {},
   "source": [
    "## Data Understanding"
   ]
  },
  {
   "cell_type": "code",
   "execution_count": 6,
   "metadata": {},
   "outputs": [
    {
     "data": {
      "text/plain": [
       "(41188, 21)"
      ]
     },
     "execution_count": 6,
     "metadata": {},
     "output_type": "execute_result"
    }
   ],
   "source": [
    "# check dataset shape\n",
    "df.shape"
   ]
  },
  {
   "cell_type": "markdown",
   "metadata": {},
   "source": [
    "There are 41,188 entries and 21 columns of data"
   ]
  },
  {
   "cell_type": "code",
   "execution_count": 7,
   "metadata": {},
   "outputs": [
    {
     "name": "stdout",
     "output_type": "stream",
     "text": [
      "<class 'pandas.core.frame.DataFrame'>\n",
      "RangeIndex: 41188 entries, 0 to 41187\n",
      "Data columns (total 21 columns):\n",
      " #   Column          Non-Null Count  Dtype  \n",
      "---  ------          --------------  -----  \n",
      " 0   age             41188 non-null  int64  \n",
      " 1   job             41188 non-null  object \n",
      " 2   marital         41188 non-null  object \n",
      " 3   education       41188 non-null  object \n",
      " 4   default         41188 non-null  object \n",
      " 5   housing         41188 non-null  object \n",
      " 6   loan            41188 non-null  object \n",
      " 7   contact         41188 non-null  object \n",
      " 8   month           41188 non-null  object \n",
      " 9   day_of_week     41188 non-null  object \n",
      " 10  duration        41188 non-null  int64  \n",
      " 11  campaign        41188 non-null  int64  \n",
      " 12  pdays           41188 non-null  int64  \n",
      " 13  previous        41188 non-null  int64  \n",
      " 14  poutcome        41188 non-null  object \n",
      " 15  emp_var_rate    41188 non-null  float64\n",
      " 16  cons_price_idx  41188 non-null  float64\n",
      " 17  cons_conf_idx   41188 non-null  float64\n",
      " 18  euribor3m       41188 non-null  float64\n",
      " 19  nr_employed     41188 non-null  float64\n",
      " 20  y               41188 non-null  object \n",
      "dtypes: float64(5), int64(5), object(11)\n",
      "memory usage: 6.6+ MB\n"
     ]
    }
   ],
   "source": [
    "# check dataset info\n",
    "df.info()"
   ]
  },
  {
   "cell_type": "code",
   "execution_count": 8,
   "metadata": {},
   "outputs": [
    {
     "data": {
      "text/html": [
       "<div>\n",
       "<style scoped>\n",
       "    .dataframe tbody tr th:only-of-type {\n",
       "        vertical-align: middle;\n",
       "    }\n",
       "\n",
       "    .dataframe tbody tr th {\n",
       "        vertical-align: top;\n",
       "    }\n",
       "\n",
       "    .dataframe thead th {\n",
       "        text-align: right;\n",
       "    }\n",
       "</style>\n",
       "<table border=\"1\" class=\"dataframe\">\n",
       "  <thead>\n",
       "    <tr style=\"text-align: right;\">\n",
       "      <th></th>\n",
       "      <th>feats</th>\n",
       "      <th>tot_missing</th>\n",
       "      <th>tot_missing_pct</th>\n",
       "    </tr>\n",
       "  </thead>\n",
       "  <tbody>\n",
       "  </tbody>\n",
       "</table>\n",
       "</div>"
      ],
      "text/plain": [
       "Empty DataFrame\n",
       "Columns: [feats, tot_missing, tot_missing_pct]\n",
       "Index: []"
      ]
     },
     "execution_count": 8,
     "metadata": {},
     "output_type": "execute_result"
    }
   ],
   "source": [
    "# check missing values in dataset\n",
    "check_missing(df)"
   ]
  },
  {
   "cell_type": "markdown",
   "metadata": {},
   "source": [
    "Great there are no missing values"
   ]
  },
  {
   "cell_type": "markdown",
   "metadata": {},
   "source": [
    "## Basic Characteristics of the Dataset"
   ]
  },
  {
   "cell_type": "code",
   "execution_count": 9,
   "metadata": {},
   "outputs": [
    {
     "data": {
      "text/html": [
       "<div>\n",
       "<style scoped>\n",
       "    .dataframe tbody tr th:only-of-type {\n",
       "        vertical-align: middle;\n",
       "    }\n",
       "\n",
       "    .dataframe tbody tr th {\n",
       "        vertical-align: top;\n",
       "    }\n",
       "\n",
       "    .dataframe thead th {\n",
       "        text-align: right;\n",
       "    }\n",
       "</style>\n",
       "<table border=\"1\" class=\"dataframe\">\n",
       "  <thead>\n",
       "    <tr style=\"text-align: right;\">\n",
       "      <th></th>\n",
       "      <th>count</th>\n",
       "      <th>mean</th>\n",
       "      <th>std</th>\n",
       "      <th>min</th>\n",
       "      <th>50%</th>\n",
       "      <th>max</th>\n",
       "    </tr>\n",
       "  </thead>\n",
       "  <tbody>\n",
       "    <tr>\n",
       "      <th>age</th>\n",
       "      <td>41188.0</td>\n",
       "      <td>40.02</td>\n",
       "      <td>10.42</td>\n",
       "      <td>17.00</td>\n",
       "      <td>38.00</td>\n",
       "      <td>98.00</td>\n",
       "    </tr>\n",
       "    <tr>\n",
       "      <th>duration</th>\n",
       "      <td>41188.0</td>\n",
       "      <td>258.29</td>\n",
       "      <td>259.28</td>\n",
       "      <td>0.00</td>\n",
       "      <td>180.00</td>\n",
       "      <td>4918.00</td>\n",
       "    </tr>\n",
       "    <tr>\n",
       "      <th>campaign</th>\n",
       "      <td>41188.0</td>\n",
       "      <td>2.57</td>\n",
       "      <td>2.77</td>\n",
       "      <td>1.00</td>\n",
       "      <td>2.00</td>\n",
       "      <td>56.00</td>\n",
       "    </tr>\n",
       "    <tr>\n",
       "      <th>pdays</th>\n",
       "      <td>41188.0</td>\n",
       "      <td>962.48</td>\n",
       "      <td>186.91</td>\n",
       "      <td>0.00</td>\n",
       "      <td>999.00</td>\n",
       "      <td>999.00</td>\n",
       "    </tr>\n",
       "    <tr>\n",
       "      <th>previous</th>\n",
       "      <td>41188.0</td>\n",
       "      <td>0.17</td>\n",
       "      <td>0.49</td>\n",
       "      <td>0.00</td>\n",
       "      <td>0.00</td>\n",
       "      <td>7.00</td>\n",
       "    </tr>\n",
       "    <tr>\n",
       "      <th>emp_var_rate</th>\n",
       "      <td>41188.0</td>\n",
       "      <td>0.08</td>\n",
       "      <td>1.57</td>\n",
       "      <td>-3.40</td>\n",
       "      <td>1.10</td>\n",
       "      <td>1.40</td>\n",
       "    </tr>\n",
       "    <tr>\n",
       "      <th>cons_price_idx</th>\n",
       "      <td>41188.0</td>\n",
       "      <td>93.58</td>\n",
       "      <td>0.58</td>\n",
       "      <td>92.20</td>\n",
       "      <td>93.75</td>\n",
       "      <td>94.77</td>\n",
       "    </tr>\n",
       "    <tr>\n",
       "      <th>cons_conf_idx</th>\n",
       "      <td>41188.0</td>\n",
       "      <td>-40.50</td>\n",
       "      <td>4.63</td>\n",
       "      <td>-50.80</td>\n",
       "      <td>-41.80</td>\n",
       "      <td>-26.90</td>\n",
       "    </tr>\n",
       "    <tr>\n",
       "      <th>euribor3m</th>\n",
       "      <td>41188.0</td>\n",
       "      <td>3.62</td>\n",
       "      <td>1.73</td>\n",
       "      <td>0.63</td>\n",
       "      <td>4.86</td>\n",
       "      <td>5.04</td>\n",
       "    </tr>\n",
       "    <tr>\n",
       "      <th>nr_employed</th>\n",
       "      <td>41188.0</td>\n",
       "      <td>5167.04</td>\n",
       "      <td>72.25</td>\n",
       "      <td>4963.60</td>\n",
       "      <td>5191.00</td>\n",
       "      <td>5228.10</td>\n",
       "    </tr>\n",
       "  </tbody>\n",
       "</table>\n",
       "</div>"
      ],
      "text/plain": [
       "                  count     mean     std      min      50%      max\n",
       "age             41188.0    40.02   10.42    17.00    38.00    98.00\n",
       "duration        41188.0   258.29  259.28     0.00   180.00  4918.00\n",
       "campaign        41188.0     2.57    2.77     1.00     2.00    56.00\n",
       "pdays           41188.0   962.48  186.91     0.00   999.00   999.00\n",
       "previous        41188.0     0.17    0.49     0.00     0.00     7.00\n",
       "emp_var_rate    41188.0     0.08    1.57    -3.40     1.10     1.40\n",
       "cons_price_idx  41188.0    93.58    0.58    92.20    93.75    94.77\n",
       "cons_conf_idx   41188.0   -40.50    4.63   -50.80   -41.80   -26.90\n",
       "euribor3m       41188.0     3.62    1.73     0.63     4.86     5.04\n",
       "nr_employed     41188.0  5167.04   72.25  4963.60  5191.00  5228.10"
      ]
     },
     "execution_count": 9,
     "metadata": {},
     "output_type": "execute_result"
    }
   ],
   "source": [
    "# check basic stats for features with number dtypes\n",
    "df.describe(percentiles=[0.5]).T"
   ]
  },
  {
   "cell_type": "code",
   "execution_count": 10,
   "metadata": {},
   "outputs": [
    {
     "data": {
      "text/html": [
       "<div>\n",
       "<style scoped>\n",
       "    .dataframe tbody tr th:only-of-type {\n",
       "        vertical-align: middle;\n",
       "    }\n",
       "\n",
       "    .dataframe tbody tr th {\n",
       "        vertical-align: top;\n",
       "    }\n",
       "\n",
       "    .dataframe thead th {\n",
       "        text-align: right;\n",
       "    }\n",
       "</style>\n",
       "<table border=\"1\" class=\"dataframe\">\n",
       "  <thead>\n",
       "    <tr style=\"text-align: right;\">\n",
       "      <th></th>\n",
       "      <th>count</th>\n",
       "      <th>unique</th>\n",
       "      <th>top</th>\n",
       "      <th>freq</th>\n",
       "    </tr>\n",
       "  </thead>\n",
       "  <tbody>\n",
       "    <tr>\n",
       "      <th>job</th>\n",
       "      <td>41188</td>\n",
       "      <td>12</td>\n",
       "      <td>admin.</td>\n",
       "      <td>10422</td>\n",
       "    </tr>\n",
       "    <tr>\n",
       "      <th>marital</th>\n",
       "      <td>41188</td>\n",
       "      <td>4</td>\n",
       "      <td>married</td>\n",
       "      <td>24928</td>\n",
       "    </tr>\n",
       "    <tr>\n",
       "      <th>education</th>\n",
       "      <td>41188</td>\n",
       "      <td>8</td>\n",
       "      <td>university.degree</td>\n",
       "      <td>12168</td>\n",
       "    </tr>\n",
       "    <tr>\n",
       "      <th>default</th>\n",
       "      <td>41188</td>\n",
       "      <td>3</td>\n",
       "      <td>no</td>\n",
       "      <td>32588</td>\n",
       "    </tr>\n",
       "    <tr>\n",
       "      <th>housing</th>\n",
       "      <td>41188</td>\n",
       "      <td>3</td>\n",
       "      <td>yes</td>\n",
       "      <td>21576</td>\n",
       "    </tr>\n",
       "    <tr>\n",
       "      <th>loan</th>\n",
       "      <td>41188</td>\n",
       "      <td>3</td>\n",
       "      <td>no</td>\n",
       "      <td>33950</td>\n",
       "    </tr>\n",
       "    <tr>\n",
       "      <th>contact</th>\n",
       "      <td>41188</td>\n",
       "      <td>2</td>\n",
       "      <td>cellular</td>\n",
       "      <td>26144</td>\n",
       "    </tr>\n",
       "    <tr>\n",
       "      <th>month</th>\n",
       "      <td>41188</td>\n",
       "      <td>10</td>\n",
       "      <td>may</td>\n",
       "      <td>13769</td>\n",
       "    </tr>\n",
       "    <tr>\n",
       "      <th>day_of_week</th>\n",
       "      <td>41188</td>\n",
       "      <td>5</td>\n",
       "      <td>thu</td>\n",
       "      <td>8623</td>\n",
       "    </tr>\n",
       "    <tr>\n",
       "      <th>poutcome</th>\n",
       "      <td>41188</td>\n",
       "      <td>3</td>\n",
       "      <td>nonexistent</td>\n",
       "      <td>35563</td>\n",
       "    </tr>\n",
       "    <tr>\n",
       "      <th>y</th>\n",
       "      <td>41188</td>\n",
       "      <td>2</td>\n",
       "      <td>no</td>\n",
       "      <td>36548</td>\n",
       "    </tr>\n",
       "  </tbody>\n",
       "</table>\n",
       "</div>"
      ],
      "text/plain": [
       "             count unique                top   freq\n",
       "job          41188     12             admin.  10422\n",
       "marital      41188      4            married  24928\n",
       "education    41188      8  university.degree  12168\n",
       "default      41188      3                 no  32588\n",
       "housing      41188      3                yes  21576\n",
       "loan         41188      3                 no  33950\n",
       "contact      41188      2           cellular  26144\n",
       "month        41188     10                may  13769\n",
       "day_of_week  41188      5                thu   8623\n",
       "poutcome     41188      3        nonexistent  35563\n",
       "y            41188      2                 no  36548"
      ]
     },
     "execution_count": 10,
     "metadata": {},
     "output_type": "execute_result"
    }
   ],
   "source": [
    "# check basic stats for features with object dtypes\n",
    "df.describe(include='object').T"
   ]
  },
  {
   "cell_type": "code",
   "execution_count": 11,
   "metadata": {},
   "outputs": [
    {
     "name": "stdout",
     "output_type": "stream",
     "text": [
      "Nominal and ordinal features cardinality:\n",
      "job : 12 unique values \n",
      " ['admin.' 'blue-collar' 'entrepreneur' 'housemaid' 'management' 'retired'\n",
      " 'self-employed' 'services' 'student' 'technician' 'unemployed' 'unknown']\n",
      "----------------------------------------------------------------------------------------------------\n",
      "marital : 4 unique values \n",
      " ['divorced' 'married' 'single' 'unknown']\n",
      "----------------------------------------------------------------------------------------------------\n",
      "education : 8 unique values \n",
      " ['basic.4y' 'basic.6y' 'basic.9y' 'high.school' 'illiterate'\n",
      " 'professional.course' 'university.degree' 'unknown']\n",
      "----------------------------------------------------------------------------------------------------\n",
      "default : 3 unique values \n",
      " ['no' 'unknown' 'yes']\n",
      "----------------------------------------------------------------------------------------------------\n",
      "housing : 3 unique values \n",
      " ['no' 'unknown' 'yes']\n",
      "----------------------------------------------------------------------------------------------------\n",
      "loan : 3 unique values \n",
      " ['no' 'unknown' 'yes']\n",
      "----------------------------------------------------------------------------------------------------\n",
      "contact : 2 unique values \n",
      " ['cellular' 'telephone']\n",
      "----------------------------------------------------------------------------------------------------\n",
      "month : 10 unique values \n",
      " ['apr' 'aug' 'dec' 'jul' 'jun' 'mar' 'may' 'nov' 'oct' 'sep']\n",
      "----------------------------------------------------------------------------------------------------\n",
      "day_of_week : 5 unique values \n",
      " ['fri' 'mon' 'thu' 'tue' 'wed']\n",
      "----------------------------------------------------------------------------------------------------\n",
      "previous : 8 unique values \n",
      " [0 1 2 3 4 5 6 7]\n",
      "----------------------------------------------------------------------------------------------------\n",
      "poutcome : 3 unique values \n",
      " ['failure' 'nonexistent' 'success']\n",
      "----------------------------------------------------------------------------------------------------\n",
      "emp_var_rate : 10 unique values \n",
      " [-3.4 -3.  -2.9 -1.8 -1.7 -1.1 -0.2 -0.1  1.1  1.4]\n",
      "----------------------------------------------------------------------------------------------------\n",
      "nr_employed : 11 unique values \n",
      " [4963.6 4991.6 5008.7 5017.5 5023.5 5076.2 5099.1 5176.3 5191.  5195.8\n",
      " 5228.1]\n",
      "----------------------------------------------------------------------------------------------------\n",
      "y : 2 unique values \n",
      " ['no' 'yes']\n",
      "----------------------------------------------------------------------------------------------------\n"
     ]
    }
   ],
   "source": [
    "# check the cardinality of each nominal and ordinal features\n",
    "print(\"Nominal and ordinal features cardinality:\")\n",
    "for col in df.columns:\n",
    "    if df[col].nunique() < 20:\n",
    "        print(col, ':', df[col].nunique(), 'unique values \\n', np.sort(df[col].unique()))\n",
    "        print('-' * 100)"
   ]
  },
  {
   "cell_type": "markdown",
   "metadata": {},
   "source": [
    "There's the feature `nr_employed` which popped out because it has only 12 unique values. However, it's still a numeric feature"
   ]
  },
  {
   "cell_type": "markdown",
   "metadata": {},
   "source": [
    "Let's cover some basic stats of the features in the train set.\n",
    "- bank client data:\n",
    "    - `age` \n",
    "        - Numerical feature\n",
    "        - Ranges from 17 to 98 years old\n",
    "        - Mean is slightly higher than the median\n",
    "    - `job`\n",
    "        - Nominal feature\n",
    "        - Most clients work as an admin.\n",
    "        - Twelve unique values\n",
    "        - There's an `unknown` category. Depending on the number of occurence, I might impute it or treat it as its own category\n",
    "    - `marital`\n",
    "        - Nominal feature\n",
    "        - Most clients are married\n",
    "        - Four unique values\n",
    "        - There's an `unknown` category. Depending on the number of occurence, I might impute it or treat it as its own category\n",
    "    - `education`\n",
    "        - Ordinal feature\n",
    "        - Most clients are university graduate\n",
    "        - Eight unique values\n",
    "        - There's an `unknown` category. Depending on the number of occurence, I might impute it or treat it as its own category\n",
    "    - `default`\n",
    "        - Nominal feature\n",
    "        - Most clients do not have their credit in default\n",
    "        - Three unique values\n",
    "        - There's an `unknown` category. Depending on the number of occurence, I might impute it or treat it as its own category\n",
    "    - `housing`\n",
    "        - Nominal feature\n",
    "        - Most clients have a housing loan\n",
    "        - Three unique values\n",
    "        - There's an `unknown` category. Depending on the number of occurence, I might impute it or treat it as its own category\n",
    "    - `loan`\n",
    "        - Nominal feature\n",
    "        - Most clients do not have a personal loan\n",
    "        - Three unique values\n",
    "        - There's an `unknown` category. Depending on the number of occurence, I might impute it or treat it as its own category\n",
    "\n",
    "- related with the last contact of the current campaign:\n",
    "    - `contact`\n",
    "        - Nominal feature\n",
    "        - Most clients are contacted via cellular\n",
    "        - Two unique values\n",
    "    - `month`\n",
    "        - Nominal feature\n",
    "        - Most clients were last contacted in May\n",
    "        - Ten unique values\n",
    "    - `day_of_week`\n",
    "        - Nominal feature\n",
    "        - Most clients were last contacted on a Thursday\n",
    "        - Five unique values\n",
    "    - `duration`\n",
    "        - Numerical feature\n",
    "        - Mean is higher than the median\n",
    "        - Might be right skewed with lots of outliers\n",
    "        - Highly affects target\n",
    "        - If **duration=0 then y=\"no\"**\n",
    "        - However, the value of duration can only be recorded after the target value is obtained\n",
    "        - Therefore, this feature is interdependent to our target variable and should not be used as a predictor for a realistic model\n",
    "\n",
    "- other attributes:\n",
    "    - `campaign`: \n",
    "        - Numerical feature\n",
    "        - Ranges from 1 to 56\n",
    "        - Mean is slightly higher than the median\n",
    "        - Might be right skewed with lots of outliers\n",
    "    - `pdays`\n",
    "        - Numerical feature\n",
    "        - Ranges from 0 to 999\n",
    "        - Seems like most values are 999\n",
    "        - Which means most clients had not been previously contacted\n",
    "    - `previous`\n",
    "        - Numerical feature\n",
    "        - Ranges from 0 to 7\n",
    "        - Median is `0`\n",
    "        - Most clients have not been contacted before this campaign\n",
    "    - `poutcome`\n",
    "        - Nominal feature\n",
    "        - Most clients have yet to have any data from previous marketing campaign\n",
    "        - Three unique values\n",
    "\n",
    "- social and economic context attributes\n",
    "    - `emp_var_rate`\n",
    "        - Numerical feature\n",
    "        - Ranges from -3.4 to 1.4\n",
    "        - Mean is lower than the median\n",
    "        - Might be left skewed\n",
    "    - `cons_price_idx`: consumer price index - monthly indicator (numeric)     \n",
    "        - Numerical feature\n",
    "        - Ranges from 92.20 to 94.77\n",
    "        - Mean and median is about the same\n",
    "        - Might be normally distributed\n",
    "    - `cons_conf_idx`: consumer confidence index - monthly indicator (numeric)     \n",
    "        - Numerical feature\n",
    "        - Ranges from -50.8 to -26.9\n",
    "        - Mean is lower than the median\n",
    "        - Might be left skewed\n",
    "    - `euribor3m`: euribor 3 month rate - daily indicator (numeric)\n",
    "        - Numerical feature\n",
    "        - Ranges from 0.63 to 5.04\n",
    "        - Mean is lower than the median\n",
    "        - Might be left skewed\n",
    "    - `nr_employed`: number of employees - quarterly indicator (numeric)\n",
    "        - Numerical feature\n",
    "        - Ranges from 4963.6 to 5228.1\n",
    "        - Mean is slightly lower than the median\n",
    "        - Might be left skewed"
   ]
  },
  {
   "cell_type": "markdown",
   "metadata": {},
   "source": [
    "### Missing values\n",
    "We saw that we do not have any missing values in the form of `NaN`, but we do have unique values that can be considered missing values in the form of `unknown` and `999` (for the feature `pdays`).\\\n",
    "Let's revisit missing values again"
   ]
  },
  {
   "cell_type": "code",
   "execution_count": 12,
   "metadata": {},
   "outputs": [
    {
     "data": {
      "text/html": [
       "<style type=\"text/css\">\n",
       "</style>\n",
       "<table id=\"T_5caa4\">\n",
       "  <thead>\n",
       "    <tr>\n",
       "      <th class=\"blank level0\" >&nbsp;</th>\n",
       "      <th id=\"T_5caa4_level0_col0\" class=\"col_heading level0 col0\" >feats</th>\n",
       "      <th id=\"T_5caa4_level0_col1\" class=\"col_heading level0 col1\" >tot_missing</th>\n",
       "      <th id=\"T_5caa4_level0_col2\" class=\"col_heading level0 col2\" >tot_missing_pct</th>\n",
       "    </tr>\n",
       "  </thead>\n",
       "  <tbody>\n",
       "    <tr>\n",
       "      <th id=\"T_5caa4_level0_row0\" class=\"row_heading level0 row0\" >0</th>\n",
       "      <td id=\"T_5caa4_row0_col0\" class=\"data row0 col0\" >job</td>\n",
       "      <td id=\"T_5caa4_row0_col1\" class=\"data row0 col1\" >330</td>\n",
       "      <td id=\"T_5caa4_row0_col2\" class=\"data row0 col2\" >0.80%</td>\n",
       "    </tr>\n",
       "    <tr>\n",
       "      <th id=\"T_5caa4_level0_row1\" class=\"row_heading level0 row1\" >1</th>\n",
       "      <td id=\"T_5caa4_row1_col0\" class=\"data row1 col0\" >marital</td>\n",
       "      <td id=\"T_5caa4_row1_col1\" class=\"data row1 col1\" >80</td>\n",
       "      <td id=\"T_5caa4_row1_col2\" class=\"data row1 col2\" >0.19%</td>\n",
       "    </tr>\n",
       "    <tr>\n",
       "      <th id=\"T_5caa4_level0_row2\" class=\"row_heading level0 row2\" >2</th>\n",
       "      <td id=\"T_5caa4_row2_col0\" class=\"data row2 col0\" >education</td>\n",
       "      <td id=\"T_5caa4_row2_col1\" class=\"data row2 col1\" >1731</td>\n",
       "      <td id=\"T_5caa4_row2_col2\" class=\"data row2 col2\" >4.20%</td>\n",
       "    </tr>\n",
       "    <tr>\n",
       "      <th id=\"T_5caa4_level0_row3\" class=\"row_heading level0 row3\" >3</th>\n",
       "      <td id=\"T_5caa4_row3_col0\" class=\"data row3 col0\" >default</td>\n",
       "      <td id=\"T_5caa4_row3_col1\" class=\"data row3 col1\" >8597</td>\n",
       "      <td id=\"T_5caa4_row3_col2\" class=\"data row3 col2\" >20.87%</td>\n",
       "    </tr>\n",
       "    <tr>\n",
       "      <th id=\"T_5caa4_level0_row4\" class=\"row_heading level0 row4\" >4</th>\n",
       "      <td id=\"T_5caa4_row4_col0\" class=\"data row4 col0\" >housing</td>\n",
       "      <td id=\"T_5caa4_row4_col1\" class=\"data row4 col1\" >990</td>\n",
       "      <td id=\"T_5caa4_row4_col2\" class=\"data row4 col2\" >2.40%</td>\n",
       "    </tr>\n",
       "    <tr>\n",
       "      <th id=\"T_5caa4_level0_row5\" class=\"row_heading level0 row5\" >5</th>\n",
       "      <td id=\"T_5caa4_row5_col0\" class=\"data row5 col0\" >loan</td>\n",
       "      <td id=\"T_5caa4_row5_col1\" class=\"data row5 col1\" >990</td>\n",
       "      <td id=\"T_5caa4_row5_col2\" class=\"data row5 col2\" >2.40%</td>\n",
       "    </tr>\n",
       "    <tr>\n",
       "      <th id=\"T_5caa4_level0_row6\" class=\"row_heading level0 row6\" >6</th>\n",
       "      <td id=\"T_5caa4_row6_col0\" class=\"data row6 col0\" >duration</td>\n",
       "      <td id=\"T_5caa4_row6_col1\" class=\"data row6 col1\" >2</td>\n",
       "      <td id=\"T_5caa4_row6_col2\" class=\"data row6 col2\" >0.00%</td>\n",
       "    </tr>\n",
       "    <tr>\n",
       "      <th id=\"T_5caa4_level0_row7\" class=\"row_heading level0 row7\" >7</th>\n",
       "      <td id=\"T_5caa4_row7_col0\" class=\"data row7 col0\" >pdays</td>\n",
       "      <td id=\"T_5caa4_row7_col1\" class=\"data row7 col1\" >39673</td>\n",
       "      <td id=\"T_5caa4_row7_col2\" class=\"data row7 col2\" >96.32%</td>\n",
       "    </tr>\n",
       "    <tr>\n",
       "      <th id=\"T_5caa4_level0_row8\" class=\"row_heading level0 row8\" >8</th>\n",
       "      <td id=\"T_5caa4_row8_col0\" class=\"data row8 col0\" >poutcome</td>\n",
       "      <td id=\"T_5caa4_row8_col1\" class=\"data row8 col1\" >39673</td>\n",
       "      <td id=\"T_5caa4_row8_col2\" class=\"data row8 col2\" >96.32%</td>\n",
       "    </tr>\n",
       "  </tbody>\n",
       "</table>\n"
      ],
      "text/plain": [
       "<pandas.io.formats.style.Styler at 0x7f7ff43ca340>"
      ]
     },
     "execution_count": 12,
     "metadata": {},
     "output_type": "execute_result"
    }
   ],
   "source": [
    "check_missing_special(df).style.format({'tot_missing_pct': '{:.2f}%'})"
   ]
  },
  {
   "cell_type": "markdown",
   "metadata": {},
   "source": [
    "So in actuality, we've got a lot of missing values\n",
    "- The column `pdays` is comprised of 96.3% missing values. These are clients which have not been contacted previously.\n",
    "- Column `default` also has a lot of missing values fo 20.87%, which means we do not know whether those clients have credit in default or not"
   ]
  },
  {
   "cell_type": "markdown",
   "metadata": {},
   "source": [
    "## Data Preparation\n",
    "\n",
    "Handle cardinality in `feature`"
   ]
  },
  {
   "cell_type": "code",
   "execution_count": null,
   "metadata": {},
   "outputs": [],
   "source": []
  },
  {
   "cell_type": "markdown",
   "metadata": {},
   "source": [
    "Data looks good and is in accordance with the data design"
   ]
  },
  {
   "cell_type": "markdown",
   "metadata": {},
   "source": [
    "## Check for Dataset Imbalance\n",
    "\n",
    "Check whether the target variable of the dataset is balance"
   ]
  },
  {
   "cell_type": "code",
   "execution_count": 13,
   "metadata": {},
   "outputs": [
    {
     "data": {
      "image/png": "[encoded data removed]",
      "text/plain": [
       "<Figure size 288x360 with 1 Axes>"
      ]
     },
     "metadata": {
      "needs_background": "light"
     },
     "output_type": "display_data"
    }
   ],
   "source": [
    "# check for imbalance in target variable\n",
    "plt.figure(figsize=(4,5))\n",
    "sns.countplot(data=df, x='y')\n",
    "plt.title('Number of clients that subscribed a term deposit')\n",
    "plt.xlabel(None)\n",
    "plt.ylabel(None)\n",
    "plt.ylim(0, df.shape[0])\n",
    "\n",
    "plt.show()"
   ]
  },
  {
   "cell_type": "markdown",
   "metadata": {},
   "source": [
    "We can see that most clients have not subscribed to a term deposit and the ratio is about `7:1`\\\n",
    "That means we need to stratify when splitting"
   ]
  },
  {
   "cell_type": "markdown",
   "metadata": {},
   "source": [
    "## Splitting Dataset\n",
    "\n",
    "We need to split the dataset into inference, train and test sets before we do any EDA.\\\n",
    "We do our EDA on the train set so as to not have any bias towards the whole dataset."
   ]
  },
  {
   "cell_type": "markdown",
   "metadata": {},
   "source": [
    "### Sample data for inference"
   ]
  },
  {
   "cell_type": "code",
   "execution_count": 14,
   "metadata": {},
   "outputs": [
    {
     "name": "stdout",
     "output_type": "stream",
     "text": [
      "df_inf Size: (10, 21)\n"
     ]
    }
   ],
   "source": [
    "# sample dataset for inference\n",
    "df_inf = df.sample(10, random_state=42)\n",
    "\n",
    "# remove inference set from original dataset\n",
    "df_train_test = df.drop(df_inf.index).reset_index(drop=True)\n",
    "\n",
    "# reset index for inference set\n",
    "df_inf = df_inf.reset_index(drop=True)\n",
    "\n",
    "print('df_inf Size:', df_inf.shape)"
   ]
  },
  {
   "cell_type": "markdown",
   "metadata": {},
   "source": [
    "### Split train and test set\n",
    "\n",
    "\n",
    "Since the target variable is imbalanced, we use stratified sampling"
   ]
  },
  {
   "cell_type": "code",
   "execution_count": 15,
   "metadata": {},
   "outputs": [
    {
     "name": "stdout",
     "output_type": "stream",
     "text": [
      "df_train Size: (32942, 21)\n",
      "df_test Size: (8236, 21)\n"
     ]
    }
   ],
   "source": [
    "# we use stratified sampling to ensure that the distribution of the target variable is balanced\n",
    "df_train, df_test = train_test_split(\n",
    "    df_train_test,\n",
    "    test_size=0.20,\n",
    "    random_state=42,\n",
    "    stratify=df_train_test['y']\n",
    ")\n",
    "\n",
    "print('df_train Size:', df_train.shape)\n",
    "print('df_test Size:', df_test.shape)"
   ]
  },
  {
   "cell_type": "code",
   "execution_count": 16,
   "metadata": {},
   "outputs": [],
   "source": [
    "# backup the train set that we are gonna perform EDA on\n",
    "df_train_ori = df_train.copy()"
   ]
  },
  {
   "cell_type": "markdown",
   "metadata": {},
   "source": [
    "# 4. Exploratory Data Analysis"
   ]
  },
  {
   "cell_type": "markdown",
   "metadata": {},
   "source": [
    "## Number of clients that subscribed a term deposit\n",
    "\n",
    "We have checked this before sampling\\\n",
    "Now let's check again for the train set"
   ]
  },
  {
   "cell_type": "code",
   "execution_count": 17,
   "metadata": {},
   "outputs": [
    {
     "data": {
      "image/png": "[encoded data removed]",
      "text/plain": [
       "<Figure size 288x360 with 1 Axes>"
      ]
     },
     "metadata": {
      "needs_background": "light"
     },
     "output_type": "display_data"
    }
   ],
   "source": [
    "# plot the number of clients that subcribed a term deposit\n",
    "plt.figure(figsize=(4,5))\n",
    "sns.countplot(data=df_train, x='y')\n",
    "plt.title('Number of clients that subscribed a term deposit')\n",
    "plt.xlabel(None)\n",
    "plt.ylabel(None)\n",
    "plt.ylim(0, df_train.shape[0])\n",
    "\n",
    "plt.show()"
   ]
  },
  {
   "cell_type": "markdown",
   "metadata": {},
   "source": [
    "## Age"
   ]
  },
  {
   "cell_type": "code",
   "execution_count": 18,
   "metadata": {},
   "outputs": [
    {
     "data": {
      "image/png": "[encoded data removed]",
      "text/plain": [
       "<Figure size 1296x360 with 1 Axes>"
      ]
     },
     "metadata": {
      "needs_background": "light"
     },
     "output_type": "display_data"
    }
   ],
   "source": [
    "# plot distribution of age grouped by subcription status\n",
    "plt.figure(figsize=(18, 5))\n",
    "sns.kdeplot(data=df_train, x='age', hue='y', shade=True)\n",
    "plt.title('Age distribution by subcription status')\n",
    "plt.xlabel('Age')\n",
    "plt.yticks([])\n",
    "plt.ylabel(None)\n",
    "\n",
    "# plt.legend(labels=['Default', 'Not Default'])\n",
    "plt.show()"
   ]
  },
  {
   "cell_type": "markdown",
   "metadata": {},
   "source": [
    "## Job"
   ]
  },
  {
   "cell_type": "code",
   "execution_count": 19,
   "metadata": {},
   "outputs": [
    {
     "data": {
      "image/png": "[encoded data removed]",
      "text/plain": [
       "<Figure size 1296x360 with 1 Axes>"
      ]
     },
     "metadata": {
      "needs_background": "light"
     },
     "output_type": "display_data"
    }
   ],
   "source": [
    "# plot number of clients that subcribed a term deposit grouped by job\n",
    "plt.figure(figsize=(18,5))\n",
    "sns.countplot(data=df_train, x='job', hue='y')\n",
    "plt.title('Number of clients that subscribed a term deposit grouped by job')\n",
    "plt.xlabel(None)\n",
    "plt.ylabel(\"No. of Clients\")\n",
    "\n",
    "plt.show()"
   ]
  },
  {
   "cell_type": "markdown",
   "metadata": {},
   "source": [
    "## Education"
   ]
  },
  {
   "cell_type": "code",
   "execution_count": 20,
   "metadata": {},
   "outputs": [
    {
     "data": {
      "image/png": "[encoded data removed]",
      "text/plain": [
       "<Figure size 1296x360 with 1 Axes>"
      ]
     },
     "metadata": {
      "needs_background": "light"
     },
     "output_type": "display_data"
    }
   ],
   "source": [
    "# plot number of clients that subcribed a term deposit grouped by education\n",
    "plt.figure(figsize=(18,5))\n",
    "sns.countplot(data=df_train, x='education', hue='y')\n",
    "plt.title('Number of clients that subscribed a term deposit grouped by education')\n",
    "plt.xlabel(None)\n",
    "plt.ylabel(\"No. of Clients\")\n",
    "\n",
    "plt.show()"
   ]
  },
  {
   "cell_type": "markdown",
   "metadata": {},
   "source": [
    "We can see that the number of clients who are illiterate are so small the plot couldn't even be seen clearly.\\\n",
    "The `unknown` category comprises of about 14% of `university` category total. Let's check how this category comprises of the whole dataset"
   ]
  },
  {
   "cell_type": "code",
   "execution_count": 21,
   "metadata": {},
   "outputs": [
    {
     "data": {
      "text/plain": [
       "0.04207394815129622"
      ]
     },
     "execution_count": 21,
     "metadata": {},
     "output_type": "execute_result"
    }
   ],
   "source": [
    "# check the percentage of clients that have `unknown` as education level\n",
    "df_train['education'].value_counts()['unknown'] / df_train.shape[0]"
   ]
  },
  {
   "cell_type": "markdown",
   "metadata": {},
   "source": [
    "So we can see that it's about 4% out of the whole dataset"
   ]
  },
  {
   "cell_type": "markdown",
   "metadata": {},
   "source": [
    "## Subheading 3"
   ]
  },
  {
   "cell_type": "code",
   "execution_count": null,
   "metadata": {},
   "outputs": [],
   "source": []
  },
  {
   "cell_type": "markdown",
   "metadata": {},
   "source": [
    "# 5. Data Preprocessing"
   ]
  },
  {
   "cell_type": "code",
   "execution_count": 22,
   "metadata": {},
   "outputs": [],
   "source": [
    "# restore the train set from the backup\n",
    "df_train = df_train_ori.copy()"
   ]
  },
  {
   "cell_type": "code",
   "execution_count": 23,
   "metadata": {},
   "outputs": [],
   "source": [
    "# split between features and target\n",
    "X_train = df_train.drop(['y'], axis=1)\n",
    "y_train = df_train['y'].copy()\n",
    "\n",
    "X_test = df_test.drop(['y'], axis=1)\n",
    "y_test = df_test['y'].copy()"
   ]
  },
  {
   "cell_type": "markdown",
   "metadata": {},
   "source": [
    "## Categorizing Features\n",
    "\n",
    "Categorize the features based on the variable type of the features and the data it represents\n",
    "- Numeric (Interval): Features which have equally spaced interval between unique values\n",
    "- Categorical (Nominal): Features which have no intrinsic ordering to the unique values\n",
    "- Ordinal: Features which have clear ordering but do not have equally spaced intervals between unique values"
   ]
  },
  {
   "cell_type": "code",
   "execution_count": 24,
   "metadata": {},
   "outputs": [],
   "source": [
    "# categorizing features\n",
    "num_cols = [\n",
    "    'age', 'duration', 'campaign', 'pdays', 'previous', 'emp_var_rate',\n",
    "    'cons_price_idx', 'cons_conf_idx', 'euribor3m', 'nr_employed'\n",
    "]\n",
    "\n",
    "nom_cols = [\n",
    "    'job', 'marital', 'default', 'housing', 'loan', 'contact',\n",
    "    'month', 'day_of_week', 'poutcome'\n",
    "]\n",
    "\n",
    "ord_cols = ['education']"
   ]
  },
  {
   "cell_type": "markdown",
   "metadata": {},
   "source": [
    "## Handling Outliers"
   ]
  },
  {
   "cell_type": "code",
   "execution_count": 25,
   "metadata": {},
   "outputs": [
    {
     "data": {
      "text/html": [
       "<div>\n",
       "<style scoped>\n",
       "    .dataframe tbody tr th:only-of-type {\n",
       "        vertical-align: middle;\n",
       "    }\n",
       "\n",
       "    .dataframe tbody tr th {\n",
       "        vertical-align: top;\n",
       "    }\n",
       "\n",
       "    .dataframe thead th {\n",
       "        text-align: right;\n",
       "    }\n",
       "</style>\n",
       "<table border=\"1\" class=\"dataframe\">\n",
       "  <thead>\n",
       "    <tr style=\"text-align: right;\">\n",
       "      <th></th>\n",
       "      <th>feats</th>\n",
       "      <th>skew</th>\n",
       "      <th>dist</th>\n",
       "      <th>tot_outlier</th>\n",
       "      <th>tot_outlier_pct</th>\n",
       "    </tr>\n",
       "  </thead>\n",
       "  <tbody>\n",
       "    <tr>\n",
       "      <th>0</th>\n",
       "      <td>age</td>\n",
       "      <td>0.78</td>\n",
       "      <td>skewed</td>\n",
       "      <td>378</td>\n",
       "      <td>1.15</td>\n",
       "    </tr>\n",
       "    <tr>\n",
       "      <th>1</th>\n",
       "      <td>duration</td>\n",
       "      <td>3.31</td>\n",
       "      <td>skewed</td>\n",
       "      <td>2365</td>\n",
       "      <td>7.18</td>\n",
       "    </tr>\n",
       "    <tr>\n",
       "      <th>2</th>\n",
       "      <td>campaign</td>\n",
       "      <td>4.71</td>\n",
       "      <td>skewed</td>\n",
       "      <td>1935</td>\n",
       "      <td>5.87</td>\n",
       "    </tr>\n",
       "    <tr>\n",
       "      <th>3</th>\n",
       "      <td>pdays</td>\n",
       "      <td>-4.93</td>\n",
       "      <td>skewed</td>\n",
       "      <td>1210</td>\n",
       "      <td>3.67</td>\n",
       "    </tr>\n",
       "    <tr>\n",
       "      <th>4</th>\n",
       "      <td>previous</td>\n",
       "      <td>3.88</td>\n",
       "      <td>skewed</td>\n",
       "      <td>4499</td>\n",
       "      <td>13.66</td>\n",
       "    </tr>\n",
       "    <tr>\n",
       "      <th>5</th>\n",
       "      <td>emp_var_rate</td>\n",
       "      <td>-0.72</td>\n",
       "      <td>skewed</td>\n",
       "      <td>0</td>\n",
       "      <td>0.00</td>\n",
       "    </tr>\n",
       "    <tr>\n",
       "      <th>6</th>\n",
       "      <td>cons_price_idx</td>\n",
       "      <td>-0.23</td>\n",
       "      <td>normal</td>\n",
       "      <td>0</td>\n",
       "      <td>0.00</td>\n",
       "    </tr>\n",
       "    <tr>\n",
       "      <th>7</th>\n",
       "      <td>cons_conf_idx</td>\n",
       "      <td>0.30</td>\n",
       "      <td>normal</td>\n",
       "      <td>0</td>\n",
       "      <td>0.00</td>\n",
       "    </tr>\n",
       "    <tr>\n",
       "      <th>8</th>\n",
       "      <td>euribor3m</td>\n",
       "      <td>-0.70</td>\n",
       "      <td>skewed</td>\n",
       "      <td>0</td>\n",
       "      <td>0.00</td>\n",
       "    </tr>\n",
       "    <tr>\n",
       "      <th>9</th>\n",
       "      <td>nr_employed</td>\n",
       "      <td>-1.04</td>\n",
       "      <td>skewed</td>\n",
       "      <td>0</td>\n",
       "      <td>0.00</td>\n",
       "    </tr>\n",
       "  </tbody>\n",
       "</table>\n",
       "</div>"
      ],
      "text/plain": [
       "            feats  skew    dist  tot_outlier  tot_outlier_pct\n",
       "0             age  0.78  skewed          378             1.15\n",
       "1        duration  3.31  skewed         2365             7.18\n",
       "2        campaign  4.71  skewed         1935             5.87\n",
       "3           pdays -4.93  skewed         1210             3.67\n",
       "4        previous  3.88  skewed         4499            13.66\n",
       "5    emp_var_rate -0.72  skewed            0             0.00\n",
       "6  cons_price_idx -0.23  normal            0             0.00\n",
       "7   cons_conf_idx  0.30  normal            0             0.00\n",
       "8       euribor3m -0.70  skewed            0             0.00\n",
       "9     nr_employed -1.04  skewed            0             0.00"
      ]
     },
     "execution_count": 25,
     "metadata": {},
     "output_type": "execute_result"
    }
   ],
   "source": [
    "# check outlier summary only on numerical features\n",
    "outlier_summary(X_train[num_cols], 1.5)"
   ]
  },
  {
   "cell_type": "markdown",
   "metadata": {},
   "source": [
    "1. `Trimming`: if outliers' percentage < 5%\n",
    "2. `Capping`: if outliers' percentage 5% - 15%\n",
    "3. `None`: if outliers' percentage > 15%"
   ]
  },
  {
   "cell_type": "code",
   "execution_count": 26,
   "metadata": {},
   "outputs": [
    {
     "data": {
      "text/html": [
       "<div>\n",
       "<style scoped>\n",
       "    .dataframe tbody tr th:only-of-type {\n",
       "        vertical-align: middle;\n",
       "    }\n",
       "\n",
       "    .dataframe tbody tr th {\n",
       "        vertical-align: top;\n",
       "    }\n",
       "\n",
       "    .dataframe thead th {\n",
       "        text-align: right;\n",
       "    }\n",
       "</style>\n",
       "<table border=\"1\" class=\"dataframe\">\n",
       "  <thead>\n",
       "    <tr style=\"text-align: right;\">\n",
       "      <th></th>\n",
       "      <th>feats</th>\n",
       "      <th>upper_bound</th>\n",
       "      <th>lower_bound</th>\n",
       "      <th>tot_right_tail</th>\n",
       "      <th>tot_left_tail</th>\n",
       "      <th>tot_right_tail_pct</th>\n",
       "      <th>tot_left_tail_pct</th>\n",
       "      <th>tot_outlier</th>\n",
       "      <th>tot_outlier_pct</th>\n",
       "    </tr>\n",
       "  </thead>\n",
       "  <tbody>\n",
       "    <tr>\n",
       "      <th>0</th>\n",
       "      <td>age</td>\n",
       "      <td>69.50</td>\n",
       "      <td>9.50</td>\n",
       "      <td>378</td>\n",
       "      <td>0</td>\n",
       "      <td>1.15</td>\n",
       "      <td>0.00</td>\n",
       "      <td>378</td>\n",
       "      <td>1.15</td>\n",
       "    </tr>\n",
       "    <tr>\n",
       "      <th>1</th>\n",
       "      <td>duration</td>\n",
       "      <td>642.00</td>\n",
       "      <td>-222.00</td>\n",
       "      <td>2365</td>\n",
       "      <td>0</td>\n",
       "      <td>7.18</td>\n",
       "      <td>0.00</td>\n",
       "      <td>2365</td>\n",
       "      <td>7.18</td>\n",
       "    </tr>\n",
       "    <tr>\n",
       "      <th>2</th>\n",
       "      <td>campaign</td>\n",
       "      <td>6.00</td>\n",
       "      <td>-2.00</td>\n",
       "      <td>1935</td>\n",
       "      <td>0</td>\n",
       "      <td>5.87</td>\n",
       "      <td>0.00</td>\n",
       "      <td>1935</td>\n",
       "      <td>5.87</td>\n",
       "    </tr>\n",
       "    <tr>\n",
       "      <th>3</th>\n",
       "      <td>pdays</td>\n",
       "      <td>999.00</td>\n",
       "      <td>999.00</td>\n",
       "      <td>0</td>\n",
       "      <td>1210</td>\n",
       "      <td>0.00</td>\n",
       "      <td>3.67</td>\n",
       "      <td>1210</td>\n",
       "      <td>3.67</td>\n",
       "    </tr>\n",
       "    <tr>\n",
       "      <th>4</th>\n",
       "      <td>previous</td>\n",
       "      <td>0.00</td>\n",
       "      <td>0.00</td>\n",
       "      <td>4499</td>\n",
       "      <td>0</td>\n",
       "      <td>13.66</td>\n",
       "      <td>0.00</td>\n",
       "      <td>4499</td>\n",
       "      <td>13.66</td>\n",
       "    </tr>\n",
       "    <tr>\n",
       "      <th>5</th>\n",
       "      <td>emp_var_rate</td>\n",
       "      <td>6.20</td>\n",
       "      <td>-6.60</td>\n",
       "      <td>0</td>\n",
       "      <td>0</td>\n",
       "      <td>0.00</td>\n",
       "      <td>0.00</td>\n",
       "      <td>0</td>\n",
       "      <td>0.00</td>\n",
       "    </tr>\n",
       "    <tr>\n",
       "      <th>6</th>\n",
       "      <td>cons_price_idx</td>\n",
       "      <td>95.31</td>\n",
       "      <td>91.84</td>\n",
       "      <td>0</td>\n",
       "      <td>0</td>\n",
       "      <td>0.00</td>\n",
       "      <td>0.00</td>\n",
       "      <td>0</td>\n",
       "      <td>0.00</td>\n",
       "    </tr>\n",
       "    <tr>\n",
       "      <th>7</th>\n",
       "      <td>cons_conf_idx</td>\n",
       "      <td>-26.62</td>\n",
       "      <td>-54.39</td>\n",
       "      <td>0</td>\n",
       "      <td>0</td>\n",
       "      <td>0.00</td>\n",
       "      <td>0.00</td>\n",
       "      <td>0</td>\n",
       "      <td>0.00</td>\n",
       "    </tr>\n",
       "    <tr>\n",
       "      <th>8</th>\n",
       "      <td>euribor3m</td>\n",
       "      <td>10.39</td>\n",
       "      <td>-4.08</td>\n",
       "      <td>0</td>\n",
       "      <td>0</td>\n",
       "      <td>0.00</td>\n",
       "      <td>0.00</td>\n",
       "      <td>0</td>\n",
       "      <td>0.00</td>\n",
       "    </tr>\n",
       "    <tr>\n",
       "      <th>9</th>\n",
       "      <td>nr_employed</td>\n",
       "      <td>5421.60</td>\n",
       "      <td>4905.60</td>\n",
       "      <td>0</td>\n",
       "      <td>0</td>\n",
       "      <td>0.00</td>\n",
       "      <td>0.00</td>\n",
       "      <td>0</td>\n",
       "      <td>0.00</td>\n",
       "    </tr>\n",
       "  </tbody>\n",
       "</table>\n",
       "</div>"
      ],
      "text/plain": [
       "            feats  upper_bound  lower_bound  tot_right_tail  tot_left_tail  \\\n",
       "0             age        69.50         9.50             378              0   \n",
       "1        duration       642.00      -222.00            2365              0   \n",
       "2        campaign         6.00        -2.00            1935              0   \n",
       "3           pdays       999.00       999.00               0           1210   \n",
       "4        previous         0.00         0.00            4499              0   \n",
       "5    emp_var_rate         6.20        -6.60               0              0   \n",
       "6  cons_price_idx        95.31        91.84               0              0   \n",
       "7   cons_conf_idx       -26.62       -54.39               0              0   \n",
       "8       euribor3m        10.39        -4.08               0              0   \n",
       "9     nr_employed      5421.60      4905.60               0              0   \n",
       "\n",
       "   tot_right_tail_pct  tot_left_tail_pct  tot_outlier  tot_outlier_pct  \n",
       "0                1.15               0.00          378             1.15  \n",
       "1                7.18               0.00         2365             7.18  \n",
       "2                5.87               0.00         1935             5.87  \n",
       "3                0.00               3.67         1210             3.67  \n",
       "4               13.66               0.00         4499            13.66  \n",
       "5                0.00               0.00            0             0.00  \n",
       "6                0.00               0.00            0             0.00  \n",
       "7                0.00               0.00            0             0.00  \n",
       "8                0.00               0.00            0             0.00  \n",
       "9                0.00               0.00            0             0.00  "
      ]
     },
     "execution_count": 26,
     "metadata": {},
     "output_type": "execute_result"
    }
   ],
   "source": [
    "# check outlier details\n",
    "check_outlier(X_train[num_cols], 1.5)"
   ]
  },
  {
   "cell_type": "markdown",
   "metadata": {},
   "source": [
    "Trim and cap the outliers"
   ]
  },
  {
   "cell_type": "code",
   "execution_count": 27,
   "metadata": {},
   "outputs": [
    {
     "name": "stdout",
     "output_type": "stream",
     "text": [
      "X_train shape before trimming and capping: (32942, 20)\n",
      "y_train shape before trimming and capping: (32942,)\n",
      "X_train shape after trimming and capping: (31430, 20)\n",
      "y_train shape after trimming and capping: (31430,)\n"
     ]
    }
   ],
   "source": [
    "# print X_train and y_train shape before trimming and capping\n",
    "print('X_train shape before trimming and capping:', X_train.shape)\n",
    "print('y_train shape before trimming and capping:', y_train.shape)\n",
    "\n",
    "# trim and cap outliers\n",
    "X_train, y_train = trim_cap_outliers(\n",
    "    X_train,\n",
    "    exception_list = nom_cols + ord_cols,\n",
    "    fold=1.5,\n",
    "    target=y_train\n",
    ")\n",
    "\n",
    "# print X_train and y_train shape after trimming and capping\n",
    "print('X_train shape after trimming and capping:', X_train.shape)\n",
    "print('y_train shape after trimming and capping:', y_train.shape)"
   ]
  },
  {
   "cell_type": "markdown",
   "metadata": {},
   "source": [
    "## Handling Missing Values\n"
   ]
  },
  {
   "cell_type": "code",
   "execution_count": 28,
   "metadata": {},
   "outputs": [
    {
     "data": {
      "text/html": [
       "<div>\n",
       "<style scoped>\n",
       "    .dataframe tbody tr th:only-of-type {\n",
       "        vertical-align: middle;\n",
       "    }\n",
       "\n",
       "    .dataframe tbody tr th {\n",
       "        vertical-align: top;\n",
       "    }\n",
       "\n",
       "    .dataframe thead th {\n",
       "        text-align: right;\n",
       "    }\n",
       "</style>\n",
       "<table border=\"1\" class=\"dataframe\">\n",
       "  <thead>\n",
       "    <tr style=\"text-align: right;\">\n",
       "      <th></th>\n",
       "      <th>feats</th>\n",
       "      <th>tot_missing</th>\n",
       "      <th>tot_missing_pct</th>\n",
       "    </tr>\n",
       "  </thead>\n",
       "  <tbody>\n",
       "  </tbody>\n",
       "</table>\n",
       "</div>"
      ],
      "text/plain": [
       "Empty DataFrame\n",
       "Columns: [feats, tot_missing, tot_missing_pct]\n",
       "Index: []"
      ]
     },
     "execution_count": 28,
     "metadata": {},
     "output_type": "execute_result"
    }
   ],
   "source": [
    "# check missing values in train set\n",
    "check_missing(X_train)"
   ]
  },
  {
   "cell_type": "code",
   "execution_count": 29,
   "metadata": {},
   "outputs": [
    {
     "data": {
      "text/plain": [
       "0"
      ]
     },
     "execution_count": 29,
     "metadata": {},
     "output_type": "execute_result"
    }
   ],
   "source": [
    "# check missing values in train target\n",
    "y_train.isna().sum()"
   ]
  },
  {
   "cell_type": "code",
   "execution_count": 30,
   "metadata": {},
   "outputs": [
    {
     "data": {
      "text/html": [
       "<div>\n",
       "<style scoped>\n",
       "    .dataframe tbody tr th:only-of-type {\n",
       "        vertical-align: middle;\n",
       "    }\n",
       "\n",
       "    .dataframe tbody tr th {\n",
       "        vertical-align: top;\n",
       "    }\n",
       "\n",
       "    .dataframe thead th {\n",
       "        text-align: right;\n",
       "    }\n",
       "</style>\n",
       "<table border=\"1\" class=\"dataframe\">\n",
       "  <thead>\n",
       "    <tr style=\"text-align: right;\">\n",
       "      <th></th>\n",
       "      <th>feats</th>\n",
       "      <th>tot_missing</th>\n",
       "      <th>tot_missing_pct</th>\n",
       "    </tr>\n",
       "  </thead>\n",
       "  <tbody>\n",
       "  </tbody>\n",
       "</table>\n",
       "</div>"
      ],
      "text/plain": [
       "Empty DataFrame\n",
       "Columns: [feats, tot_missing, tot_missing_pct]\n",
       "Index: []"
      ]
     },
     "execution_count": 30,
     "metadata": {},
     "output_type": "execute_result"
    }
   ],
   "source": [
    "# check missing values in test set\n",
    "check_missing(X_test)"
   ]
  },
  {
   "cell_type": "code",
   "execution_count": 31,
   "metadata": {},
   "outputs": [
    {
     "data": {
      "text/plain": [
       "0"
      ]
     },
     "execution_count": 31,
     "metadata": {},
     "output_type": "execute_result"
    }
   ],
   "source": [
    "# check missing values in test target\n",
    "y_test.isna().sum()"
   ]
  },
  {
   "cell_type": "markdown",
   "metadata": {},
   "source": [
    "We have no `NaN` values in the train set nor test set. However, we do have missing values in the form of `unknown` and 999, so let's check for that"
   ]
  },
  {
   "cell_type": "code",
   "execution_count": 32,
   "metadata": {},
   "outputs": [
    {
     "data": {
      "text/html": [
       "<style type=\"text/css\">\n",
       "</style>\n",
       "<table id=\"T_229e8\">\n",
       "  <thead>\n",
       "    <tr>\n",
       "      <th class=\"blank level0\" >&nbsp;</th>\n",
       "      <th id=\"T_229e8_level0_col0\" class=\"col_heading level0 col0\" >feats</th>\n",
       "      <th id=\"T_229e8_level0_col1\" class=\"col_heading level0 col1\" >tot_missing</th>\n",
       "      <th id=\"T_229e8_level0_col2\" class=\"col_heading level0 col2\" >tot_missing_pct</th>\n",
       "    </tr>\n",
       "  </thead>\n",
       "  <tbody>\n",
       "    <tr>\n",
       "      <th id=\"T_229e8_level0_row0\" class=\"row_heading level0 row0\" >0</th>\n",
       "      <td id=\"T_229e8_row0_col0\" class=\"data row0 col0\" >job</td>\n",
       "      <td id=\"T_229e8_row0_col1\" class=\"data row0 col1\" >330</td>\n",
       "      <td id=\"T_229e8_row0_col2\" class=\"data row0 col2\" >0.80%</td>\n",
       "    </tr>\n",
       "    <tr>\n",
       "      <th id=\"T_229e8_level0_row1\" class=\"row_heading level0 row1\" >1</th>\n",
       "      <td id=\"T_229e8_row1_col0\" class=\"data row1 col0\" >marital</td>\n",
       "      <td id=\"T_229e8_row1_col1\" class=\"data row1 col1\" >80</td>\n",
       "      <td id=\"T_229e8_row1_col2\" class=\"data row1 col2\" >0.19%</td>\n",
       "    </tr>\n",
       "    <tr>\n",
       "      <th id=\"T_229e8_level0_row2\" class=\"row_heading level0 row2\" >2</th>\n",
       "      <td id=\"T_229e8_row2_col0\" class=\"data row2 col0\" >education</td>\n",
       "      <td id=\"T_229e8_row2_col1\" class=\"data row2 col1\" >1731</td>\n",
       "      <td id=\"T_229e8_row2_col2\" class=\"data row2 col2\" >4.20%</td>\n",
       "    </tr>\n",
       "    <tr>\n",
       "      <th id=\"T_229e8_level0_row3\" class=\"row_heading level0 row3\" >3</th>\n",
       "      <td id=\"T_229e8_row3_col0\" class=\"data row3 col0\" >default</td>\n",
       "      <td id=\"T_229e8_row3_col1\" class=\"data row3 col1\" >8597</td>\n",
       "      <td id=\"T_229e8_row3_col2\" class=\"data row3 col2\" >20.87%</td>\n",
       "    </tr>\n",
       "    <tr>\n",
       "      <th id=\"T_229e8_level0_row4\" class=\"row_heading level0 row4\" >4</th>\n",
       "      <td id=\"T_229e8_row4_col0\" class=\"data row4 col0\" >housing</td>\n",
       "      <td id=\"T_229e8_row4_col1\" class=\"data row4 col1\" >990</td>\n",
       "      <td id=\"T_229e8_row4_col2\" class=\"data row4 col2\" >2.40%</td>\n",
       "    </tr>\n",
       "    <tr>\n",
       "      <th id=\"T_229e8_level0_row5\" class=\"row_heading level0 row5\" >5</th>\n",
       "      <td id=\"T_229e8_row5_col0\" class=\"data row5 col0\" >loan</td>\n",
       "      <td id=\"T_229e8_row5_col1\" class=\"data row5 col1\" >990</td>\n",
       "      <td id=\"T_229e8_row5_col2\" class=\"data row5 col2\" >2.40%</td>\n",
       "    </tr>\n",
       "    <tr>\n",
       "      <th id=\"T_229e8_level0_row6\" class=\"row_heading level0 row6\" >6</th>\n",
       "      <td id=\"T_229e8_row6_col0\" class=\"data row6 col0\" >duration</td>\n",
       "      <td id=\"T_229e8_row6_col1\" class=\"data row6 col1\" >2</td>\n",
       "      <td id=\"T_229e8_row6_col2\" class=\"data row6 col2\" >0.00%</td>\n",
       "    </tr>\n",
       "    <tr>\n",
       "      <th id=\"T_229e8_level0_row7\" class=\"row_heading level0 row7\" >7</th>\n",
       "      <td id=\"T_229e8_row7_col0\" class=\"data row7 col0\" >pdays</td>\n",
       "      <td id=\"T_229e8_row7_col1\" class=\"data row7 col1\" >39673</td>\n",
       "      <td id=\"T_229e8_row7_col2\" class=\"data row7 col2\" >96.32%</td>\n",
       "    </tr>\n",
       "    <tr>\n",
       "      <th id=\"T_229e8_level0_row8\" class=\"row_heading level0 row8\" >8</th>\n",
       "      <td id=\"T_229e8_row8_col0\" class=\"data row8 col0\" >poutcome</td>\n",
       "      <td id=\"T_229e8_row8_col1\" class=\"data row8 col1\" >39673</td>\n",
       "      <td id=\"T_229e8_row8_col2\" class=\"data row8 col2\" >96.32%</td>\n",
       "    </tr>\n",
       "  </tbody>\n",
       "</table>\n"
      ],
      "text/plain": [
       "<pandas.io.formats.style.Styler at 0x7f7fa33e0f70>"
      ]
     },
     "execution_count": 32,
     "metadata": {},
     "output_type": "execute_result"
    }
   ],
   "source": [
    "# check for special missing values\n",
    "check_missing_special(X_train).style.format({'tot_missing_pct': '{:.2f}%'})"
   ]
  },
  {
   "cell_type": "markdown",
   "metadata": {},
   "source": [
    "Since we have more than 90% of missing values in the feature `pdays` and `poutcome`, I'm not going to include it as a predictor. These two features are higly dependent since they are the results of last contact\n",
    "\n",
    "For other features' missing values, since these are all categorized as `unknown`, I'm going to keep them as it is, as a separate category\\\n",
    "For `education`, I'm going to place `unknown` in a level above `illiterate`, but below `basic.4y`, since thisi is an ordinal feature and I need to decide on the order."
   ]
  },
  {
   "cell_type": "code",
   "execution_count": 33,
   "metadata": {},
   "outputs": [],
   "source": [
    "# prepare education ordered categorical variable\n",
    "education_order = [\n",
    "    \"illiterate\",\n",
    "    \"unknown\",\n",
    "    \"basic.4y\",\n",
    "    \"basic.6y\",\n",
    "    \"basic.9y\",\n",
    "    \"high.school\",\n",
    "    \"professional.course\",\n",
    "    \"university.degree\",\n",
    "]"
   ]
  },
  {
   "cell_type": "markdown",
   "metadata": {},
   "source": [
    "## Feature Selection"
   ]
  },
  {
   "cell_type": "markdown",
   "metadata": {},
   "source": [
    "### Heatmap Correlation Matrix for Numerical Features\n",
    "\n",
    "We look at the Spearman's correlation matrix to find out the relation between features and target"
   ]
  },
  {
   "cell_type": "code",
   "execution_count": 34,
   "metadata": {
    "colab": {
     "base_uri": "https://localhost:8080/",
     "height": 1000
    },
    "id": "DytKCFs5Ddt7",
    "outputId": "51beab39-eec8-4664-d174-b96fb87efd5d"
   },
   "outputs": [
    {
     "data": {
      "image/png": "[encoded data removed]",
      "text/plain": [
       "<Figure size 1080x720 with 2 Axes>"
      ]
     },
     "metadata": {
      "needs_background": "light"
     },
     "output_type": "display_data"
    }
   ],
   "source": [
    "# Heatmap Correlation Matrix\n",
    "plt.figure(figsize=(15,10))\n",
    "\n",
    "sns.heatmap(\n",
    "    pd.concat([\n",
    "        pd.get_dummies(y_train, prefix='y', drop_first=True),\n",
    "        X_train[num_cols]], axis=1\n",
    "    ).corr('spearman'),\n",
    "    annot=True, vmin=-1, vmax=1, fmt='.2f', square=True, cmap='coolwarm')\n",
    "plt.xticks(rotation=45)\n",
    "plt.yticks(rotation=0)\n",
    "plt.title('Heatmap for Numerical Features')\n",
    "\n",
    "plt.show()\n"
   ]
  },
  {
   "cell_type": "markdown",
   "metadata": {},
   "source": [
    "- `y_yes` is a dummy variable which represents the target, with a value of `0 being no and 1 being yes`\n",
    "- There are low spearman correlations amongst features and target, with the highest being `duration`\n",
    "- But we have mentioned this before that `duration` is interdependent with the target variable `y`. Therefore, we are going to drop this feature\n",
    "- We can see that social economic context features are quite highly correlated with each others. This are new features that were not available during the first research published\n",
    "- We can also see that `pdays` and `previous` are highly dependent and also homogenous after outlier handling, since they are both features which resulted from the last contact. Since I'm dropping `pdays` because they have a lot of missing values, I will be dropping `previous` as well."
   ]
  },
  {
   "cell_type": "markdown",
   "metadata": {},
   "source": [
    "### Categorizing Selected Features"
   ]
  },
  {
   "cell_type": "code",
   "execution_count": 35,
   "metadata": {},
   "outputs": [
    {
     "data": {
      "text/html": [
       "<div>\n",
       "<style scoped>\n",
       "    .dataframe tbody tr th:only-of-type {\n",
       "        vertical-align: middle;\n",
       "    }\n",
       "\n",
       "    .dataframe tbody tr th {\n",
       "        vertical-align: top;\n",
       "    }\n",
       "\n",
       "    .dataframe thead th {\n",
       "        text-align: right;\n",
       "    }\n",
       "</style>\n",
       "<table border=\"1\" class=\"dataframe\">\n",
       "  <thead>\n",
       "    <tr style=\"text-align: right;\">\n",
       "      <th></th>\n",
       "      <th>feats</th>\n",
       "      <th>skew</th>\n",
       "      <th>dist</th>\n",
       "      <th>tot_outlier</th>\n",
       "      <th>tot_outlier_pct</th>\n",
       "    </tr>\n",
       "  </thead>\n",
       "  <tbody>\n",
       "    <tr>\n",
       "      <th>0</th>\n",
       "      <td>age</td>\n",
       "      <td>0.43</td>\n",
       "      <td>normal</td>\n",
       "      <td>24</td>\n",
       "      <td>0.08</td>\n",
       "    </tr>\n",
       "    <tr>\n",
       "      <th>3</th>\n",
       "      <td>pdays</td>\n",
       "      <td>0.00</td>\n",
       "      <td>normal</td>\n",
       "      <td>0</td>\n",
       "      <td>0.00</td>\n",
       "    </tr>\n",
       "    <tr>\n",
       "      <th>4</th>\n",
       "      <td>previous</td>\n",
       "      <td>0.00</td>\n",
       "      <td>normal</td>\n",
       "      <td>0</td>\n",
       "      <td>0.00</td>\n",
       "    </tr>\n",
       "    <tr>\n",
       "      <th>6</th>\n",
       "      <td>cons_price_idx</td>\n",
       "      <td>-0.22</td>\n",
       "      <td>normal</td>\n",
       "      <td>0</td>\n",
       "      <td>0.00</td>\n",
       "    </tr>\n",
       "    <tr>\n",
       "      <th>7</th>\n",
       "      <td>cons_conf_idx</td>\n",
       "      <td>0.28</td>\n",
       "      <td>normal</td>\n",
       "      <td>261</td>\n",
       "      <td>0.83</td>\n",
       "    </tr>\n",
       "    <tr>\n",
       "      <th>1</th>\n",
       "      <td>duration</td>\n",
       "      <td>1.05</td>\n",
       "      <td>skewed</td>\n",
       "      <td>0</td>\n",
       "      <td>0.00</td>\n",
       "    </tr>\n",
       "    <tr>\n",
       "      <th>2</th>\n",
       "      <td>campaign</td>\n",
       "      <td>1.18</td>\n",
       "      <td>skewed</td>\n",
       "      <td>0</td>\n",
       "      <td>0.00</td>\n",
       "    </tr>\n",
       "    <tr>\n",
       "      <th>5</th>\n",
       "      <td>emp_var_rate</td>\n",
       "      <td>-0.83</td>\n",
       "      <td>skewed</td>\n",
       "      <td>0</td>\n",
       "      <td>0.00</td>\n",
       "    </tr>\n",
       "    <tr>\n",
       "      <th>8</th>\n",
       "      <td>euribor3m</td>\n",
       "      <td>-0.85</td>\n",
       "      <td>skewed</td>\n",
       "      <td>0</td>\n",
       "      <td>0.00</td>\n",
       "    </tr>\n",
       "    <tr>\n",
       "      <th>9</th>\n",
       "      <td>nr_employed</td>\n",
       "      <td>-1.13</td>\n",
       "      <td>skewed</td>\n",
       "      <td>0</td>\n",
       "      <td>0.00</td>\n",
       "    </tr>\n",
       "  </tbody>\n",
       "</table>\n",
       "</div>"
      ],
      "text/plain": [
       "            feats  skew    dist  tot_outlier  tot_outlier_pct\n",
       "0             age  0.43  normal           24             0.08\n",
       "3           pdays  0.00  normal            0             0.00\n",
       "4        previous  0.00  normal            0             0.00\n",
       "6  cons_price_idx -0.22  normal            0             0.00\n",
       "7   cons_conf_idx  0.28  normal          261             0.83\n",
       "1        duration  1.05  skewed            0             0.00\n",
       "2        campaign  1.18  skewed            0             0.00\n",
       "5    emp_var_rate -0.83  skewed            0             0.00\n",
       "8       euribor3m -0.85  skewed            0             0.00\n",
       "9     nr_employed -1.13  skewed            0             0.00"
      ]
     },
     "execution_count": 35,
     "metadata": {},
     "output_type": "execute_result"
    }
   ],
   "source": [
    "# display outlier summary\n",
    "outlier_summary(X_train[num_cols], 1.5).sort_values(by='dist')"
   ]
  },
  {
   "cell_type": "code",
   "execution_count": 36,
   "metadata": {},
   "outputs": [],
   "source": [
    "# create list of numerical features with normal distribution\n",
    "num_cols_norm = [\n",
    "    'age', 'cons_price_idx', 'cons_conf_idx'\n",
    "]\n",
    "\n",
    "# create list of numerical features with skew\n",
    "num_cols_skew = [\n",
    "    'campaign', 'emp_var_rate', 'euribor3m', 'nr_employed'\n",
    "]\n",
    "\n",
    "# create final list of nominal features\n",
    "nom_cols = [\n",
    "    'job', 'marital', 'default', 'housing', 'loan', 'contact',\n",
    "    'month', 'day_of_week'\n",
    "]\n",
    "\n",
    "# create final list of ordinal features\n",
    "ord_cols = ['education']"
   ]
  },
  {
   "cell_type": "markdown",
   "metadata": {},
   "source": [
    "Great! We have finalized our feature list.\n",
    "We also separated numerical features with different types of distribution just in case we want to scale them using different methods"
   ]
  },
  {
   "cell_type": "markdown",
   "metadata": {},
   "source": [
    "### List of Features\n",
    "\n",
    "These are the predictors we're going to use"
   ]
  },
  {
   "cell_type": "code",
   "execution_count": 37,
   "metadata": {},
   "outputs": [
    {
     "name": "stdout",
     "output_type": "stream",
     "text": [
      "Numerical Features:\n",
      "['age', 'cons_price_idx', 'cons_conf_idx', 'campaign', 'emp_var_rate', 'euribor3m', 'nr_employed']\n",
      "====================================================================================================\n",
      "Categorical Features:\n",
      "['job', 'marital', 'default', 'housing', 'loan', 'contact', 'month', 'day_of_week']\n",
      "====================================================================================================\n",
      "Ordinal Features:\n",
      "['education']\n"
     ]
    }
   ],
   "source": [
    "# print out list of predictors\n",
    "print('Numerical Features:')\n",
    "print(num_cols_norm + num_cols_skew)\n",
    "print('=' * 100)\n",
    "print('Categorical Features:')\n",
    "print(nom_cols)\n",
    "print('=' * 100)\n",
    "print('Ordinal Features:')\n",
    "print(ord_cols)"
   ]
  },
  {
   "cell_type": "markdown",
   "metadata": {},
   "source": [
    "## Feature Engineering"
   ]
  },
  {
   "cell_type": "markdown",
   "metadata": {},
   "source": [
    "### Prepare The Necessary Objects\n",
    "\n",
    "Declare the various objects, like scaler and encoder we might use\n",
    "- All categorical features will use one hot encoder\n",
    "- Ordinal features which is `education` will use ordinal encoder"
   ]
  },
  {
   "cell_type": "code",
   "execution_count": 38,
   "metadata": {},
   "outputs": [],
   "source": [
    "# declare standard scaler\n",
    "std_sc = StandardScaler()\n",
    "\n",
    "# declare min max scaling\n",
    "mm_sc = MinMaxScaler()\n",
    "\n",
    "# declare one hot encoder\n",
    "ohe_enc = OneHotEncoder(handle_unknown='ignore')\n",
    "\n",
    "# declare ordinal encoder\n",
    "ord_enc = OrdinalEncoder(categories=[education_order])\n",
    "\n",
    "# declare label encoder\n",
    "label_enc = LabelEncoder()\n"
   ]
  },
  {
   "cell_type": "markdown",
   "metadata": {},
   "source": [
    "Create a ColumnTransformer, SMOTENC, and PCA objects\n",
    "- In ColumnTransformer, we will design so that our dataset will have the categorical features lined up after the numerical ones"
   ]
  },
  {
   "cell_type": "code",
   "execution_count": 39,
   "metadata": {},
   "outputs": [],
   "source": [
    "# create column transformer object using standard scaler\n",
    "scale_std = ColumnTransformer([\n",
    "    ('num_norm', std_sc, num_cols_norm),\n",
    "    ('num_skew', std_sc, num_cols_skew),\n",
    "    ('nom', 'passthrough', nom_cols),\n",
    "    ('ord', 'passthrough', ord_cols)\n",
    "])\n",
    "\n",
    "# create column transformer object using min max scaler\n",
    "scale_mm = ColumnTransformer([\n",
    "    ('num_norm', std_sc, num_cols_norm),\n",
    "    ('num_skew', mm_sc, num_cols_skew),\n",
    "    ('nom', 'passthrough', nom_cols),\n",
    "    ('ord', 'passthrough', ord_cols)\n",
    "])\n",
    "\n",
    "# create column transformer object for use after smote\n",
    "encode = ColumnTransformer([\n",
    "    ('num', 'passthrough', slice(0, 7)),\n",
    "    ('nom', ohe_enc, slice(7, 15)),\n",
    "    ('ord', ord_enc, [15])\n",
    "])\n",
    "\n",
    "# create smotenc object\n",
    "# categorical features will be put at the end, after the numerical ones\n",
    "smotenc = SMOTENC(\n",
    "    categorical_features= list(range(7, 16)),\n",
    "    random_state=42\n",
    ")\n",
    "\n",
    "# create pca object\n",
    "pca = PCA(n_components=0.8, random_state=42)\n"
   ]
  },
  {
   "cell_type": "markdown",
   "metadata": {},
   "source": [
    "### Scaling\n",
    "\n",
    "We need to scale all numerical columns before oversampling"
   ]
  },
  {
   "cell_type": "code",
   "execution_count": 40,
   "metadata": {},
   "outputs": [
    {
     "name": "stdout",
     "output_type": "stream",
     "text": [
      "X_train_scaled shape: (31430, 16)\n",
      "X_test_scaled shape: (8236, 16)\n"
     ]
    }
   ],
   "source": [
    "# scale numeric features \n",
    "X_train_scaled = scale_mm.fit_transform(X_train)\n",
    "X_test_scaled = scale_mm.transform(X_test)\n",
    "\n",
    "# print shape\n",
    "print('X_train_scaled shape:', X_train_scaled.shape)\n",
    "print('X_test_scaled shape:', X_test_scaled.shape)"
   ]
  },
  {
   "cell_type": "markdown",
   "metadata": {},
   "source": [
    "### Oversampling\n",
    "\n",
    "Since our data is imbalance, we need to perform oversampling"
   ]
  },
  {
   "cell_type": "code",
   "execution_count": 41,
   "metadata": {},
   "outputs": [
    {
     "name": "stdout",
     "output_type": "stream",
     "text": [
      "X_train_balanced shape: (57238, 16)\n",
      "y_train_balanced shape: (57238,)\n"
     ]
    }
   ],
   "source": [
    "# oversampling using SMOTE\n",
    "X_train_balanced, y_train_balanced = smotenc.fit_resample(X_train_scaled, y_train)\n",
    "\n",
    "# print shape after oversampling\n",
    "print('X_train_balanced shape:', X_train_balanced.shape)\n",
    "print('y_train_balanced shape:', y_train_balanced.shape)"
   ]
  },
  {
   "cell_type": "markdown",
   "metadata": {},
   "source": [
    "### Encoding"
   ]
  },
  {
   "cell_type": "code",
   "execution_count": 42,
   "metadata": {},
   "outputs": [
    {
     "name": "stdout",
     "output_type": "stream",
     "text": [
      "X_train_encoded shape: (57238, 50)\n",
      "X_test_encoded shape: (8236, 50)\n",
      "y_train_final shape: (57238,)\n",
      "y_test_final shape: (8236,)\n"
     ]
    }
   ],
   "source": [
    "# encode categorical features\n",
    "X_train_encoded = encode.fit_transform(X_train_balanced)\n",
    "X_test_encoded = encode.transform(X_test_scaled)\n",
    "\n",
    "# encode labels\n",
    "y_train_final = label_enc.fit_transform(y_train_balanced)\n",
    "y_test_final = label_enc.transform(y_test)\n",
    "\n",
    "# print shape\n",
    "print('X_train_encoded shape:', X_train_encoded.shape)\n",
    "print('X_test_encoded shape:', X_test_encoded.shape)\n",
    "print('y_train_final shape:', y_train_final.shape)\n",
    "print('y_test_final shape:', y_test_final.shape)"
   ]
  },
  {
   "cell_type": "markdown",
   "metadata": {},
   "source": [
    "### Dimensionality Reduction"
   ]
  },
  {
   "cell_type": "code",
   "execution_count": 43,
   "metadata": {},
   "outputs": [
    {
     "name": "stdout",
     "output_type": "stream",
     "text": [
      "X_train_final shape: (57238, 10)\n",
      "y_train_final shape: (57238,)\n",
      "X_test_final shape: (8236, 10)\n",
      "y_test_final shape: (8236,)\n"
     ]
    }
   ],
   "source": [
    "# perform dimensionality reduction\n",
    "X_train_final = pca.fit_transform(X_train_encoded)\n",
    "X_test_final = pca.transform(X_test_encoded)\n",
    "\n",
    "# print shape\n",
    "print('X_train_final shape:', X_train_final.shape)\n",
    "print('y_train_final shape:', y_train_final.shape)\n",
    "print('X_test_final shape:', X_test_final.shape)\n",
    "print('y_test_final shape:', y_test_final.shape)"
   ]
  },
  {
   "cell_type": "markdown",
   "metadata": {},
   "source": [
    "We can see that we have reduced the number of features from 50 to 10. The dataset is now about 20% of its original size. Quite a good compression\n",
    "\n",
    "Let's see how it would look like in 2D"
   ]
  },
  {
   "cell_type": "code",
   "execution_count": 44,
   "metadata": {},
   "outputs": [
    {
     "data": {
      "image/png": "[encoded data removed]",
      "text/plain": [
       "<Figure size 576x576 with 1 Axes>"
      ]
     },
     "metadata": {
      "needs_background": "light"
     },
     "output_type": "display_data"
    }
   ],
   "source": [
    "# plot pca with 2 components\n",
    "pca_2d = PCA(n_components=2, random_state=42)\n",
    "X_2d  = pca_2d.fit_transform(encode.fit_transform(X_train_balanced))\n",
    "\n",
    "plt.figure(figsize=(8, 8))\n",
    "sns.scatterplot(x=X_2d[:, 0], y=X_2d[:, 1])\n",
    "plt.xlabel('PC1')\n",
    "plt.ylabel('PC2')\n",
    "plt.title('PCA with 2 components')\n",
    "plt.show()"
   ]
  },
  {
   "cell_type": "markdown",
   "metadata": {},
   "source": [
    "Preprocessing is finished"
   ]
  },
  {
   "cell_type": "markdown",
   "metadata": {},
   "source": [
    "# 6. Model Definition"
   ]
  },
  {
   "cell_type": "markdown",
   "metadata": {},
   "source": [
    "- Target: Predicting whether clients will subscribe to a term deposit\n"
   ]
  },
  {
   "cell_type": "markdown",
   "metadata": {},
   "source": [
    "- Predictors: The features I'm going to use are\n",
    "    - Numerical Features:\n",
    "        - ['age', 'cons_price_idx', 'cons_conf_idx', 'campaign', 'emp_var_rate', 'euribor3m', 'nr_employed']\n",
    "    - Categorical Features:\n",
    "        - ['job', 'marital', 'default', 'housing', 'loan', 'contact', 'month', 'day_of_week']\n",
    "    - Ordinal Features:\n",
    "        - ['education']\n"
   ]
  },
  {
   "cell_type": "markdown",
   "metadata": {},
   "source": [
    "- Models: The Supervised Learning Algorithms I'm going to test\n",
    "    - Logistic Regression\n",
    "    - Support Vector Machine\n",
    "    - Random Forest\n",
    "    - AdaBoost\n",
    "    - XGBoost"
   ]
  },
  {
   "cell_type": "code",
   "execution_count": 45,
   "metadata": {},
   "outputs": [],
   "source": [
    "# declare logreg model\n",
    "logreg = LogisticRegression(random_state=42)\n",
    "\n",
    "# declare svm model\n",
    "svm = SVC(random_state=42)\n",
    "\n",
    "# declare random forest model\n",
    "rf = RandomForestClassifier(random_state=42)\n",
    "\n",
    "# declare xgboost model\n",
    "xgb = XGBClassifier(random_state=42, eval_metric='error')"
   ]
  },
  {
   "cell_type": "markdown",
   "metadata": {},
   "source": [
    "# 7. Model Training"
   ]
  },
  {
   "cell_type": "code",
   "execution_count": 46,
   "metadata": {},
   "outputs": [],
   "source": [
    "# create a dictionary of models\n",
    "models = {\n",
    "    'logreg': logreg,\n",
    "    'svm': svm,\n",
    "    'rf': rf,\n",
    "    'xgb': xgb\n",
    "}"
   ]
  },
  {
   "cell_type": "markdown",
   "metadata": {},
   "source": [
    "## Cross Validating Base Models\n",
    "\n",
    "Since the dataset is imbalance, we are going to evaluate our models based on **F1 Score**\\\n",
    "It's also important that we reduce the number of *False Negatives*, hence a high **Recall** is also important"
   ]
  },
  {
   "cell_type": "code",
   "execution_count": 47,
   "metadata": {},
   "outputs": [],
   "source": [
    "# create a dict to store the cross validation scores\n",
    "cv_results = {\n",
    "    'models': [],\n",
    "    'f1_score_mean': [],\n",
    "    'f1_score_std': [],\n",
    "    'precision_score_mean': [],\n",
    "    'precision_score_std': [],\n",
    "    'recall_score_mean': [],\n",
    "    'recall_score_std': []\n",
    "} \n",
    "\n",
    "# loop over each each models and perform cross validation\n",
    "for name, model in models.items():\n",
    "    # fit the model\n",
    "    model.fit(X_train_final, y_train_final)\n",
    "    # get cross validation scores\n",
    "    scores = cross_validate(\n",
    "        model, X_train_final, y_train_final,\n",
    "        scoring=['f1_weighted', 'precision', 'recall'],\n",
    "        cv=3\n",
    "    )\n",
    "\n",
    "    # store the cross validation scores\n",
    "    cv_results['models'].append(name)\n",
    "    cv_results['f1_score_mean'].append(scores['test_f1_weighted'].mean().round(2))\n",
    "    cv_results['f1_score_std'].append(scores['test_f1_weighted'].std().round(4))\n",
    "    cv_results['precision_score_mean'].append(scores['test_precision'].mean().round(2))\n",
    "    cv_results['precision_score_std'].append(scores['test_precision'].std().round(4))\n",
    "    cv_results['recall_score_mean'].append(scores['test_recall'].mean().round(2))\n",
    "    cv_results['recall_score_std'].append(scores['test_recall'].std().round(4))\n",
    "\n",
    "# create a dataframe from the dict\n",
    "cv_results_df = pd.DataFrame(cv_results)"
   ]
  },
  {
   "cell_type": "markdown",
   "metadata": {},
   "source": [
    "# 8. Model Evaluation"
   ]
  },
  {
   "cell_type": "code",
   "execution_count": 48,
   "metadata": {},
   "outputs": [
    {
     "data": {
      "text/html": [
       "<div>\n",
       "<style scoped>\n",
       "    .dataframe tbody tr th:only-of-type {\n",
       "        vertical-align: middle;\n",
       "    }\n",
       "\n",
       "    .dataframe tbody tr th {\n",
       "        vertical-align: top;\n",
       "    }\n",
       "\n",
       "    .dataframe thead th {\n",
       "        text-align: right;\n",
       "    }\n",
       "</style>\n",
       "<table border=\"1\" class=\"dataframe\">\n",
       "  <thead>\n",
       "    <tr style=\"text-align: right;\">\n",
       "      <th></th>\n",
       "      <th>models</th>\n",
       "      <th>f1_score_mean</th>\n",
       "      <th>f1_score_std</th>\n",
       "      <th>precision_score_mean</th>\n",
       "      <th>precision_score_std</th>\n",
       "      <th>recall_score_mean</th>\n",
       "      <th>recall_score_std</th>\n",
       "    </tr>\n",
       "  </thead>\n",
       "  <tbody>\n",
       "    <tr>\n",
       "      <th>2</th>\n",
       "      <td>rf</td>\n",
       "      <td>0.89</td>\n",
       "      <td>3.26e-02</td>\n",
       "      <td>0.90</td>\n",
       "      <td>1.90e-03</td>\n",
       "      <td>0.89</td>\n",
       "      <td>0.07</td>\n",
       "    </tr>\n",
       "    <tr>\n",
       "      <th>3</th>\n",
       "      <td>xgb</td>\n",
       "      <td>0.84</td>\n",
       "      <td>2.16e-02</td>\n",
       "      <td>0.84</td>\n",
       "      <td>3.30e-03</td>\n",
       "      <td>0.84</td>\n",
       "      <td>0.05</td>\n",
       "    </tr>\n",
       "    <tr>\n",
       "      <th>1</th>\n",
       "      <td>svm</td>\n",
       "      <td>0.75</td>\n",
       "      <td>1.08e-02</td>\n",
       "      <td>0.77</td>\n",
       "      <td>8.60e-03</td>\n",
       "      <td>0.70</td>\n",
       "      <td>0.02</td>\n",
       "    </tr>\n",
       "    <tr>\n",
       "      <th>0</th>\n",
       "      <td>logreg</td>\n",
       "      <td>0.69</td>\n",
       "      <td>6.10e-03</td>\n",
       "      <td>0.68</td>\n",
       "      <td>4.90e-03</td>\n",
       "      <td>0.69</td>\n",
       "      <td>0.01</td>\n",
       "    </tr>\n",
       "  </tbody>\n",
       "</table>\n",
       "</div>"
      ],
      "text/plain": [
       "   models  f1_score_mean  f1_score_std  precision_score_mean  \\\n",
       "2      rf           0.89      3.26e-02                  0.90   \n",
       "3     xgb           0.84      2.16e-02                  0.84   \n",
       "1     svm           0.75      1.08e-02                  0.77   \n",
       "0  logreg           0.69      6.10e-03                  0.68   \n",
       "\n",
       "   precision_score_std  recall_score_mean  recall_score_std  \n",
       "2             1.90e-03               0.89              0.07  \n",
       "3             3.30e-03               0.84              0.05  \n",
       "1             8.60e-03               0.70              0.02  \n",
       "0             4.90e-03               0.69              0.01  "
      ]
     },
     "execution_count": 48,
     "metadata": {},
     "output_type": "execute_result"
    }
   ],
   "source": [
    "# display the dataframe sorted by f1 score\n",
    "cv_results_df.sort_values(by=['f1_score_mean'], ascending=False)"
   ]
  },
  {
   "cell_type": "markdown",
   "metadata": {},
   "source": [
    "- Based on the cross validation score of `f1_weighted`, `precision` and `recall`, we can see that **Random Forest and XGBoost** are the top two\n",
    "- For this research, because of time constraint and resources, we are going to finetune only one of our algorithm\n",
    "- In this case, I'm going to choose **Random Forest**. However, be mindful that **XGBoost** should also be further delved into"
   ]
  },
  {
   "cell_type": "markdown",
   "metadata": {},
   "source": [
    "## Hyperparameter Tuning\n"
   ]
  },
  {
   "cell_type": "code",
   "execution_count": 49,
   "metadata": {},
   "outputs": [],
   "source": [
    "# create parameter grid for random forest\n",
    "param_grid = {\n",
    "    'max_depth': [3, 5, 7],\n",
    "    'max_features': [1, 2, 3],\n",
    "    'min_samples_leaf': [1, 2, 3],\n",
    "}"
   ]
  },
  {
   "cell_type": "code",
   "execution_count": 50,
   "metadata": {},
   "outputs": [],
   "source": [
    "# create randomized search object\n",
    "rs = RandomizedSearchCV(\n",
    "    estimator=rf,\n",
    "    param_distributions=param_grid,\n",
    "    n_iter=20,\n",
    "    scoring='f1_weighted',\n",
    "    random_state=42,\n",
    "    cv=3\n",
    ")"
   ]
  },
  {
   "cell_type": "code",
   "execution_count": 51,
   "metadata": {},
   "outputs": [
    {
     "name": "stdout",
     "output_type": "stream",
     "text": [
      "CPU times: user 4min 34s, sys: 0 ns, total: 4min 34s\n",
      "Wall time: 4min 34s\n"
     ]
    },
    {
     "data": {
      "text/html": [
       "<style>#sk-container-id-1 {color: black;background-color: white;}#sk-container-id-1 pre{padding: 0;}#sk-container-id-1 div.sk-toggleable {background-color: white;}#sk-container-id-1 label.sk-toggleable__label {cursor: pointer;display: block;width: 100%;margin-bottom: 0;padding: 0.3em;box-sizing: border-box;text-align: center;}#sk-container-id-1 label.sk-toggleable__label-arrow:before {content: \"▸\";float: left;margin-right: 0.25em;color: #696969;}#sk-container-id-1 label.sk-toggleable__label-arrow:hover:before {color: black;}#sk-container-id-1 div.sk-estimator:hover label.sk-toggleable__label-arrow:before {color: black;}#sk-container-id-1 div.sk-toggleable__content {max-height: 0;max-width: 0;overflow: hidden;text-align: left;background-color: #f0f8ff;}#sk-container-id-1 div.sk-toggleable__content pre {margin: 0.2em;color: black;border-radius: 0.25em;background-color: #f0f8ff;}#sk-container-id-1 input.sk-toggleable__control:checked~div.sk-toggleable__content {max-height: 200px;max-width: 100%;overflow: auto;}#sk-container-id-1 input.sk-toggleable__control:checked~label.sk-toggleable__label-arrow:before {content: \"▾\";}#sk-container-id-1 div.sk-estimator input.sk-toggleable__control:checked~label.sk-toggleable__label {background-color: #d4ebff;}#sk-container-id-1 div.sk-label input.sk-toggleable__control:checked~label.sk-toggleable__label {background-color: #d4ebff;}#sk-container-id-1 input.sk-hidden--visually {border: 0;clip: rect(1px 1px 1px 1px);clip: rect(1px, 1px, 1px, 1px);height: 1px;margin: -1px;overflow: hidden;padding: 0;position: absolute;width: 1px;}#sk-container-id-1 div.sk-estimator {font-family: monospace;background-color: #f0f8ff;border: 1px dotted black;border-radius: 0.25em;box-sizing: border-box;margin-bottom: 0.5em;}#sk-container-id-1 div.sk-estimator:hover {background-color: #d4ebff;}#sk-container-id-1 div.sk-parallel-item::after {content: \"\";width: 100%;border-bottom: 1px solid gray;flex-grow: 1;}#sk-container-id-1 div.sk-label:hover label.sk-toggleable__label {background-color: #d4ebff;}#sk-container-id-1 div.sk-serial::before {content: \"\";position: absolute;border-left: 1px solid gray;box-sizing: border-box;top: 0;bottom: 0;left: 50%;z-index: 0;}#sk-container-id-1 div.sk-serial {display: flex;flex-direction: column;align-items: center;background-color: white;padding-right: 0.2em;padding-left: 0.2em;position: relative;}#sk-container-id-1 div.sk-item {position: relative;z-index: 1;}#sk-container-id-1 div.sk-parallel {display: flex;align-items: stretch;justify-content: center;background-color: white;position: relative;}#sk-container-id-1 div.sk-item::before, #sk-container-id-1 div.sk-parallel-item::before {content: \"\";position: absolute;border-left: 1px solid gray;box-sizing: border-box;top: 0;bottom: 0;left: 50%;z-index: -1;}#sk-container-id-1 div.sk-parallel-item {display: flex;flex-direction: column;z-index: 1;position: relative;background-color: white;}#sk-container-id-1 div.sk-parallel-item:first-child::after {align-self: flex-end;width: 50%;}#sk-container-id-1 div.sk-parallel-item:last-child::after {align-self: flex-start;width: 50%;}#sk-container-id-1 div.sk-parallel-item:only-child::after {width: 0;}#sk-container-id-1 div.sk-dashed-wrapped {border: 1px dashed gray;margin: 0 0.4em 0.5em 0.4em;box-sizing: border-box;padding-bottom: 0.4em;background-color: white;}#sk-container-id-1 div.sk-label label {font-family: monospace;font-weight: bold;display: inline-block;line-height: 1.2em;}#sk-container-id-1 div.sk-label-container {text-align: center;}#sk-container-id-1 div.sk-container {/* jupyter's `normalize.less` sets `[hidden] { display: none; }` but bootstrap.min.css set `[hidden] { display: none !important; }` so we also need the `!important` here to be able to override the default hidden behavior on the sphinx rendered scikit-learn.org. See: https://github.com/scikit-learn/scikit-learn/issues/21755 */display: inline-block !important;position: relative;}#sk-container-id-1 div.sk-text-repr-fallback {display: none;}</style><div id=\"sk-container-id-1\" class=\"sk-top-container\"><div class=\"sk-text-repr-fallback\"><pre>RandomizedSearchCV(cv=3, estimator=RandomForestClassifier(random_state=42),\n",
       "                   n_iter=20,\n",
       "                   param_distributions={&#x27;max_depth&#x27;: [3, 5, 7],\n",
       "                                        &#x27;max_features&#x27;: [1, 2, 3],\n",
       "                                        &#x27;min_samples_leaf&#x27;: [1, 2, 3]},\n",
       "                   random_state=42, scoring=&#x27;f1_weighted&#x27;)</pre><b>In a Jupyter environment, please rerun this cell to show the HTML representation or trust the notebook. <br />On GitHub, the HTML representation is unable to render, please try loading this page with nbviewer.org.</b></div><div class=\"sk-container\" hidden><div class=\"sk-item sk-dashed-wrapped\"><div class=\"sk-label-container\"><div class=\"sk-label sk-toggleable\"><input class=\"sk-toggleable__control sk-hidden--visually\" id=\"sk-estimator-id-1\" type=\"checkbox\" ><label for=\"sk-estimator-id-1\" class=\"sk-toggleable__label sk-toggleable__label-arrow\">RandomizedSearchCV</label><div class=\"sk-toggleable__content\"><pre>RandomizedSearchCV(cv=3, estimator=RandomForestClassifier(random_state=42),\n",
       "                   n_iter=20,\n",
       "                   param_distributions={&#x27;max_depth&#x27;: [3, 5, 7],\n",
       "                                        &#x27;max_features&#x27;: [1, 2, 3],\n",
       "                                        &#x27;min_samples_leaf&#x27;: [1, 2, 3]},\n",
       "                   random_state=42, scoring=&#x27;f1_weighted&#x27;)</pre></div></div></div><div class=\"sk-parallel\"><div class=\"sk-parallel-item\"><div class=\"sk-item\"><div class=\"sk-label-container\"><div class=\"sk-label sk-toggleable\"><input class=\"sk-toggleable__control sk-hidden--visually\" id=\"sk-estimator-id-2\" type=\"checkbox\" ><label for=\"sk-estimator-id-2\" class=\"sk-toggleable__label sk-toggleable__label-arrow\">estimator: RandomForestClassifier</label><div class=\"sk-toggleable__content\"><pre>RandomForestClassifier(random_state=42)</pre></div></div></div><div class=\"sk-serial\"><div class=\"sk-item\"><div class=\"sk-estimator sk-toggleable\"><input class=\"sk-toggleable__control sk-hidden--visually\" id=\"sk-estimator-id-3\" type=\"checkbox\" ><label for=\"sk-estimator-id-3\" class=\"sk-toggleable__label sk-toggleable__label-arrow\">RandomForestClassifier</label><div class=\"sk-toggleable__content\"><pre>RandomForestClassifier(random_state=42)</pre></div></div></div></div></div></div></div></div></div></div>"
      ],
      "text/plain": [
       "RandomizedSearchCV(cv=3, estimator=RandomForestClassifier(random_state=42),\n",
       "                   n_iter=20,\n",
       "                   param_distributions={'max_depth': [3, 5, 7],\n",
       "                                        'max_features': [1, 2, 3],\n",
       "                                        'min_samples_leaf': [1, 2, 3]},\n",
       "                   random_state=42, scoring='f1_weighted')"
      ]
     },
     "execution_count": 51,
     "metadata": {},
     "output_type": "execute_result"
    }
   ],
   "source": [
    "%%time\n",
    "\n",
    "# perform randomized search\n",
    "rs.fit(X_train_final, y_train_final)"
   ]
  },
  {
   "cell_type": "code",
   "execution_count": 52,
   "metadata": {},
   "outputs": [
    {
     "name": "stdout",
     "output_type": "stream",
     "text": [
      "Best parameters: {'min_samples_leaf': 1, 'max_features': 3, 'max_depth': 7}\n",
      "Best score: 0.743577837698511\n"
     ]
    }
   ],
   "source": [
    "# print the best parameters\n",
    "print(f'Best parameters: {rs.best_params_}')\n",
    "\n",
    "# print the best score\n",
    "print(f'Best score: {rs.best_score_}')"
   ]
  },
  {
   "cell_type": "code",
   "execution_count": 53,
   "metadata": {},
   "outputs": [],
   "source": [
    "# assign the best estimator to the final model\n",
    "final_rf = rs.best_estimator_"
   ]
  },
  {
   "cell_type": "markdown",
   "metadata": {},
   "source": [
    "Running this grid search resulted in:\n",
    "- Around 4 minutes of runtime\n",
    "- Best parameters: {'min_samples_leaf': 1, 'max_features': 3, 'max_depth': 7}\n",
    "- Best score: 0.743577837698511"
   ]
  },
  {
   "cell_type": "markdown",
   "metadata": {},
   "source": [
    "## Evaluate Grid Search Results"
   ]
  },
  {
   "cell_type": "code",
   "execution_count": 54,
   "metadata": {},
   "outputs": [],
   "source": [
    "# predict train set using the base model\n",
    "y_pred_train_rf = rf.predict(X_train_final)\n",
    "\n",
    "# predict test set using the base model\n",
    "y_pred_test_rf = rf.predict(X_test_final)\n",
    "\n",
    "# predict train set using the final model\n",
    "y_pred_train_final_rf = final_rf.predict(X_train_final)\n",
    "\n",
    "# predict test set using the final model\n",
    "y_pred_test_final_rf = final_rf.predict(X_test_final)"
   ]
  },
  {
   "cell_type": "code",
   "execution_count": 73,
   "metadata": {},
   "outputs": [],
   "source": [
    "# prepare target names for classification report\n",
    "target_names = [\"Won't Subscribe\", \"Will Subscribe\"]"
   ]
  },
  {
   "cell_type": "code",
   "execution_count": 56,
   "metadata": {},
   "outputs": [],
   "source": [
    "# create a dictionary containing the list of base and final predictions\n",
    "predictions = {\n",
    "    'Base Random Forest': [y_pred_train_rf, y_pred_test_rf],\n",
    "    'Final Random Forest': [y_pred_train_final_rf, y_pred_test_final_rf]\n",
    "}"
   ]
  },
  {
   "cell_type": "markdown",
   "metadata": {},
   "source": [
    "### Summary of F1 and Recall Score"
   ]
  },
  {
   "cell_type": "code",
   "execution_count": 59,
   "metadata": {},
   "outputs": [],
   "source": [
    "# create a dict to store the classification report summarized\n",
    "report_summary = {\n",
    "    'models': [],\n",
    "    'f1_scores_train': [],\n",
    "    'f1_scores_test': [],\n",
    "    'precision_scores_train': [],\n",
    "    'precision_scores_test': [],\n",
    "    'recall_scores_train': [],\n",
    "    'recall_scores_test': [],\n",
    "    'roc_auc_scores_train': [],\n",
    "    'roc_auc_scores_test': []\n",
    "} \n",
    "\n",
    "# loop over each each models and perform cross validation\n",
    "for name, preds in predictions.items():\n",
    "    # get f1 score training set\n",
    "    f1_score_train = f1_score(y_train_final, preds[0], average='weighted')\n",
    "    # get f1 score test set\n",
    "    f1_score_test = f1_score(y_test_final, preds[1], average='weighted')\n",
    "    # get precision score training set\n",
    "    precision_score_train = precision_score(y_train_final, preds[0], average='weighted')\n",
    "    # get precision score test set\n",
    "    precision_score_test = precision_score(y_test_final, preds[1], average='weighted')\n",
    "    # get recall score training set\n",
    "    recall_score_train = recall_score(y_train_final, preds[0], average='weighted')\n",
    "    # get recall score test set\n",
    "    recall_score_test = recall_score(y_test_final, preds[1], average='weighted')\n",
    "    # get roc auc score training set\n",
    "    roc_auc_score_train = roc_auc_score(y_train_final, preds[0], average='weighted')\n",
    "    # get roc auc score test set\n",
    "    roc_auc_score_test = roc_auc_score(y_test_final, preds[1], average='weighted')\n",
    "\n",
    "    # store the scores\n",
    "    report_summary['models'].append(name)\n",
    "    report_summary['f1_scores_train'].append(f1_score_train)\n",
    "    report_summary['f1_scores_test'].append(f1_score_test)\n",
    "    report_summary['precision_scores_train'].append(precision_score_train)\n",
    "    report_summary['precision_scores_test'].append(precision_score_test)\n",
    "    report_summary['recall_scores_train'].append(recall_score_train)\n",
    "    report_summary['recall_scores_test'].append(recall_score_test)\n",
    "    report_summary['roc_auc_scores_train'].append(roc_auc_score_train)\n",
    "    report_summary['roc_auc_scores_test'].append(roc_auc_score_test)\n",
    "\n",
    "# create a dataframe from the dict\n",
    "report_summary_df = pd.DataFrame(report_summary)"
   ]
  },
  {
   "cell_type": "code",
   "execution_count": 70,
   "metadata": {},
   "outputs": [
    {
     "data": {
      "text/html": [
       "<div>\n",
       "<style scoped>\n",
       "    .dataframe tbody tr th:only-of-type {\n",
       "        vertical-align: middle;\n",
       "    }\n",
       "\n",
       "    .dataframe tbody tr th {\n",
       "        vertical-align: top;\n",
       "    }\n",
       "\n",
       "    .dataframe thead th {\n",
       "        text-align: right;\n",
       "    }\n",
       "</style>\n",
       "<table border=\"1\" class=\"dataframe\">\n",
       "  <thead>\n",
       "    <tr style=\"text-align: right;\">\n",
       "      <th></th>\n",
       "      <th>models</th>\n",
       "      <th>f1_scores_train</th>\n",
       "      <th>f1_scores_test</th>\n",
       "      <th>precision_scores_train</th>\n",
       "      <th>precision_scores_test</th>\n",
       "      <th>recall_scores_train</th>\n",
       "      <th>recall_scores_test</th>\n",
       "      <th>roc_auc_scores_train</th>\n",
       "      <th>roc_auc_scores_test</th>\n",
       "    </tr>\n",
       "  </thead>\n",
       "  <tbody>\n",
       "    <tr>\n",
       "      <th>0</th>\n",
       "      <td>Base Random Forest</td>\n",
       "      <td>1.00</td>\n",
       "      <td>0.85</td>\n",
       "      <td>1.00</td>\n",
       "      <td>0.85</td>\n",
       "      <td>1.00</td>\n",
       "      <td>0.84</td>\n",
       "      <td>1.00</td>\n",
       "      <td>0.62</td>\n",
       "    </tr>\n",
       "    <tr>\n",
       "      <th>1</th>\n",
       "      <td>Final Random Forest</td>\n",
       "      <td>0.75</td>\n",
       "      <td>0.81</td>\n",
       "      <td>0.75</td>\n",
       "      <td>0.87</td>\n",
       "      <td>0.75</td>\n",
       "      <td>0.77</td>\n",
       "      <td>0.75</td>\n",
       "      <td>0.70</td>\n",
       "    </tr>\n",
       "  </tbody>\n",
       "</table>\n",
       "</div>"
      ],
      "text/plain": [
       "                models  f1_scores_train  f1_scores_test  \\\n",
       "0   Base Random Forest             1.00            0.85   \n",
       "1  Final Random Forest             0.75            0.81   \n",
       "\n",
       "   precision_scores_train  precision_scores_test  recall_scores_train  \\\n",
       "0                    1.00                   0.85                 1.00   \n",
       "1                    0.75                   0.87                 0.75   \n",
       "\n",
       "   recall_scores_test  roc_auc_scores_train  roc_auc_scores_test  \n",
       "0                0.84                  1.00                 0.62  \n",
       "1                0.77                  0.75                 0.70  "
      ]
     },
     "execution_count": 70,
     "metadata": {},
     "output_type": "execute_result"
    }
   ],
   "source": [
    "# display the report summary\n",
    "report_summary_df"
   ]
  },
  {
   "cell_type": "markdown",
   "metadata": {},
   "source": [
    "### Detailed Evaluation for Random Forest Classifier"
   ]
  },
  {
   "cell_type": "code",
   "execution_count": 74,
   "metadata": {},
   "outputs": [
    {
     "name": "stdout",
     "output_type": "stream",
     "text": [
      "\n",
      "Classification Report for Base Random Forest Training Set:\n",
      "                 precision    recall  f1-score   support\n",
      "\n",
      "Won't Subscribe       1.00      1.00      1.00     28619\n",
      " Will Subscribe       1.00      1.00      1.00     28619\n",
      "\n",
      "       accuracy                           1.00     57238\n",
      "      macro avg       1.00      1.00      1.00     57238\n",
      "   weighted avg       1.00      1.00      1.00     57238\n",
      "\n",
      "\n",
      "Classification Report for Base Random Forest Test Set:\n",
      "                 precision    recall  f1-score   support\n",
      "\n",
      "Won't Subscribe       0.92      0.91      0.91      7308\n",
      " Will Subscribe       0.32      0.34      0.33       928\n",
      "\n",
      "       accuracy                           0.84      8236\n",
      "      macro avg       0.62      0.62      0.62      8236\n",
      "   weighted avg       0.85      0.84      0.85      8236\n",
      "\n",
      "\n",
      "Classification Report for Final Random Forest Training Set:\n",
      "                 precision    recall  f1-score   support\n",
      "\n",
      "Won't Subscribe       0.72      0.81      0.76     28619\n",
      " Will Subscribe       0.78      0.69      0.74     28619\n",
      "\n",
      "       accuracy                           0.75     57238\n",
      "      macro avg       0.75      0.75      0.75     57238\n",
      "   weighted avg       0.75      0.75      0.75     57238\n",
      "\n",
      "\n",
      "Classification Report for Final Random Forest Test Set:\n",
      "                 precision    recall  f1-score   support\n",
      "\n",
      "Won't Subscribe       0.94      0.79      0.86      7308\n",
      " Will Subscribe       0.27      0.62      0.38       928\n",
      "\n",
      "       accuracy                           0.77      8236\n",
      "      macro avg       0.61      0.70      0.62      8236\n",
      "   weighted avg       0.87      0.77      0.81      8236\n",
      "\n"
     ]
    }
   ],
   "source": [
    "# print out the classification report for each model\n",
    "for name, preds in predictions.items():\n",
    "    print(f'\\nClassification Report for {name} Training Set:')\n",
    "    print(classification_report(y_train_final, preds[0], target_names=target_names))\n",
    "    print(f'\\nClassification Report for {name} Test Set:')\n",
    "    print(classification_report(y_test_final, preds[1], target_names=target_names))"
   ]
  },
  {
   "cell_type": "code",
   "execution_count": 75,
   "metadata": {},
   "outputs": [
    {
     "data": {
      "image/png": "[encoded data removed]",
      "text/plain": [
       "<Figure size 720x576 with 1 Axes>"
      ]
     },
     "metadata": {
      "needs_background": "light"
     },
     "output_type": "display_data"
    }
   ],
   "source": [
    "# plot roc curve for train set\n",
    "fpr_train_rf, tpr_train_rf, _ = roc_curve(y_train_final, y_pred_train_rf)\n",
    "# calculate auc score for train set\n",
    "roc_auc_train_rf = auc(fpr_train_rf, tpr_train_rf)\n",
    "\n",
    "# plot roc curve for test set\n",
    "fpr_test_rf, tpr_test_rf, _ = roc_curve(y_test_final, y_pred_test_rf)\n",
    "# calculate auc score for test set\n",
    "roc_auc_test_rf = auc(fpr_test_rf, tpr_test_rf)\n",
    "\n",
    "# plot roc curve for train set using the final model\n",
    "fpr_train_final_rf, tpr_train_final_rf, _ = roc_curve(y_train_final, y_pred_train_final_rf)\n",
    "# calculate auc score for train set using the final model\n",
    "roc_auc_train_final_rf = auc(fpr_train_final_rf, tpr_train_final_rf)\n",
    "\n",
    "# plot roc curve for test set using the final model\n",
    "fpr_test_final_rf, tpr_test_final_rf, _ = roc_curve(y_test_final, y_pred_test_final_rf)\n",
    "# calculate auc score for test set using the final model\n",
    "roc_auc_test_final_rf = auc(fpr_test_final_rf, tpr_test_final_rf)\n",
    "\n",
    "plt.figure(figsize=(10, 8))\n",
    "plt.plot(fpr_train_rf, tpr_train_rf, color='red', label=f'Base Train AUC = {roc_auc_train_rf:.2f}')\n",
    "plt.plot(fpr_test_rf, tpr_test_rf, color='blue', label=f'Base Test AUC = {roc_auc_test_rf:.2f}')\n",
    "plt.plot(fpr_train_final_rf, tpr_train_final_rf, color='green', label=f'Final Train AUC = {roc_auc_train_final_rf:.2f}')\n",
    "plt.plot(fpr_test_final_rf, tpr_test_final_rf, color='black', label=f'Final Test AUC = {roc_auc_test_final_rf:.2f}')\n",
    "plt.plot([0, 1], [0, 1], color='green', linestyle='--')\n",
    "plt.xlim([0.0, 1.0])\n",
    "plt.ylim([0.0, 1.05])\n",
    "plt.xlabel('False Positive Rate')\n",
    "plt.ylabel('True Positive Rate')\n",
    "plt.title('Random Forest ROC Curve')\n",
    "plt.legend(loc=\"lower right\")\n",
    "plt.show()"
   ]
  },
  {
   "cell_type": "markdown",
   "metadata": {},
   "source": [
    "#### Analysis\n",
    "1. pass"
   ]
  },
  {
   "cell_type": "markdown",
   "metadata": {},
   "source": [
    "## Save The Final Model\n",
    "\n",
    "We'll create a pipeline containing the steps performed post-oversampling to modeling\\\n",
    "We also need to save our scaler separately since it was performed pre-oversampling"
   ]
  },
  {
   "cell_type": "code",
   "execution_count": 79,
   "metadata": {},
   "outputs": [
    {
     "data": {
      "text/html": [
       "<style>#sk-container-id-3 {color: black;background-color: white;}#sk-container-id-3 pre{padding: 0;}#sk-container-id-3 div.sk-toggleable {background-color: white;}#sk-container-id-3 label.sk-toggleable__label {cursor: pointer;display: block;width: 100%;margin-bottom: 0;padding: 0.3em;box-sizing: border-box;text-align: center;}#sk-container-id-3 label.sk-toggleable__label-arrow:before {content: \"▸\";float: left;margin-right: 0.25em;color: #696969;}#sk-container-id-3 label.sk-toggleable__label-arrow:hover:before {color: black;}#sk-container-id-3 div.sk-estimator:hover label.sk-toggleable__label-arrow:before {color: black;}#sk-container-id-3 div.sk-toggleable__content {max-height: 0;max-width: 0;overflow: hidden;text-align: left;background-color: #f0f8ff;}#sk-container-id-3 div.sk-toggleable__content pre {margin: 0.2em;color: black;border-radius: 0.25em;background-color: #f0f8ff;}#sk-container-id-3 input.sk-toggleable__control:checked~div.sk-toggleable__content {max-height: 200px;max-width: 100%;overflow: auto;}#sk-container-id-3 input.sk-toggleable__control:checked~label.sk-toggleable__label-arrow:before {content: \"▾\";}#sk-container-id-3 div.sk-estimator input.sk-toggleable__control:checked~label.sk-toggleable__label {background-color: #d4ebff;}#sk-container-id-3 div.sk-label input.sk-toggleable__control:checked~label.sk-toggleable__label {background-color: #d4ebff;}#sk-container-id-3 input.sk-hidden--visually {border: 0;clip: rect(1px 1px 1px 1px);clip: rect(1px, 1px, 1px, 1px);height: 1px;margin: -1px;overflow: hidden;padding: 0;position: absolute;width: 1px;}#sk-container-id-3 div.sk-estimator {font-family: monospace;background-color: #f0f8ff;border: 1px dotted black;border-radius: 0.25em;box-sizing: border-box;margin-bottom: 0.5em;}#sk-container-id-3 div.sk-estimator:hover {background-color: #d4ebff;}#sk-container-id-3 div.sk-parallel-item::after {content: \"\";width: 100%;border-bottom: 1px solid gray;flex-grow: 1;}#sk-container-id-3 div.sk-label:hover label.sk-toggleable__label {background-color: #d4ebff;}#sk-container-id-3 div.sk-serial::before {content: \"\";position: absolute;border-left: 1px solid gray;box-sizing: border-box;top: 0;bottom: 0;left: 50%;z-index: 0;}#sk-container-id-3 div.sk-serial {display: flex;flex-direction: column;align-items: center;background-color: white;padding-right: 0.2em;padding-left: 0.2em;position: relative;}#sk-container-id-3 div.sk-item {position: relative;z-index: 1;}#sk-container-id-3 div.sk-parallel {display: flex;align-items: stretch;justify-content: center;background-color: white;position: relative;}#sk-container-id-3 div.sk-item::before, #sk-container-id-3 div.sk-parallel-item::before {content: \"\";position: absolute;border-left: 1px solid gray;box-sizing: border-box;top: 0;bottom: 0;left: 50%;z-index: -1;}#sk-container-id-3 div.sk-parallel-item {display: flex;flex-direction: column;z-index: 1;position: relative;background-color: white;}#sk-container-id-3 div.sk-parallel-item:first-child::after {align-self: flex-end;width: 50%;}#sk-container-id-3 div.sk-parallel-item:last-child::after {align-self: flex-start;width: 50%;}#sk-container-id-3 div.sk-parallel-item:only-child::after {width: 0;}#sk-container-id-3 div.sk-dashed-wrapped {border: 1px dashed gray;margin: 0 0.4em 0.5em 0.4em;box-sizing: border-box;padding-bottom: 0.4em;background-color: white;}#sk-container-id-3 div.sk-label label {font-family: monospace;font-weight: bold;display: inline-block;line-height: 1.2em;}#sk-container-id-3 div.sk-label-container {text-align: center;}#sk-container-id-3 div.sk-container {/* jupyter's `normalize.less` sets `[hidden] { display: none; }` but bootstrap.min.css set `[hidden] { display: none !important; }` so we also need the `!important` here to be able to override the default hidden behavior on the sphinx rendered scikit-learn.org. See: https://github.com/scikit-learn/scikit-learn/issues/21755 */display: inline-block !important;position: relative;}#sk-container-id-3 div.sk-text-repr-fallback {display: none;}</style><div id=\"sk-container-id-3\" class=\"sk-top-container\"><div class=\"sk-text-repr-fallback\"><pre>Pipeline(steps=[(&#x27;encode&#x27;,\n",
       "                 ColumnTransformer(transformers=[(&#x27;num&#x27;, &#x27;passthrough&#x27;,\n",
       "                                                  slice(0, 7, None)),\n",
       "                                                 (&#x27;nom&#x27;,\n",
       "                                                  OneHotEncoder(handle_unknown=&#x27;ignore&#x27;),\n",
       "                                                  slice(7, 15, None)),\n",
       "                                                 (&#x27;ord&#x27;,\n",
       "                                                  OrdinalEncoder(categories=[[&#x27;illiterate&#x27;,\n",
       "                                                                              &#x27;unknown&#x27;,\n",
       "                                                                              &#x27;basic.4y&#x27;,\n",
       "                                                                              &#x27;basic.6y&#x27;,\n",
       "                                                                              &#x27;basic.9y&#x27;,\n",
       "                                                                              &#x27;high.school&#x27;,\n",
       "                                                                              &#x27;professional.course&#x27;,\n",
       "                                                                              &#x27;university.degree&#x27;]]),\n",
       "                                                  [15])])),\n",
       "                (&#x27;pca&#x27;, PCA(n_components=0.8, random_state=42)),\n",
       "                (&#x27;final_rf&#x27;,\n",
       "                 RandomForestClassifier(max_depth=7, max_features=3,\n",
       "                                        random_state=42))])</pre><b>In a Jupyter environment, please rerun this cell to show the HTML representation or trust the notebook. <br />On GitHub, the HTML representation is unable to render, please try loading this page with nbviewer.org.</b></div><div class=\"sk-container\" hidden><div class=\"sk-item sk-dashed-wrapped\"><div class=\"sk-label-container\"><div class=\"sk-label sk-toggleable\"><input class=\"sk-toggleable__control sk-hidden--visually\" id=\"sk-estimator-id-14\" type=\"checkbox\" ><label for=\"sk-estimator-id-14\" class=\"sk-toggleable__label sk-toggleable__label-arrow\">Pipeline</label><div class=\"sk-toggleable__content\"><pre>Pipeline(steps=[(&#x27;encode&#x27;,\n",
       "                 ColumnTransformer(transformers=[(&#x27;num&#x27;, &#x27;passthrough&#x27;,\n",
       "                                                  slice(0, 7, None)),\n",
       "                                                 (&#x27;nom&#x27;,\n",
       "                                                  OneHotEncoder(handle_unknown=&#x27;ignore&#x27;),\n",
       "                                                  slice(7, 15, None)),\n",
       "                                                 (&#x27;ord&#x27;,\n",
       "                                                  OrdinalEncoder(categories=[[&#x27;illiterate&#x27;,\n",
       "                                                                              &#x27;unknown&#x27;,\n",
       "                                                                              &#x27;basic.4y&#x27;,\n",
       "                                                                              &#x27;basic.6y&#x27;,\n",
       "                                                                              &#x27;basic.9y&#x27;,\n",
       "                                                                              &#x27;high.school&#x27;,\n",
       "                                                                              &#x27;professional.course&#x27;,\n",
       "                                                                              &#x27;university.degree&#x27;]]),\n",
       "                                                  [15])])),\n",
       "                (&#x27;pca&#x27;, PCA(n_components=0.8, random_state=42)),\n",
       "                (&#x27;final_rf&#x27;,\n",
       "                 RandomForestClassifier(max_depth=7, max_features=3,\n",
       "                                        random_state=42))])</pre></div></div></div><div class=\"sk-serial\"><div class=\"sk-item sk-dashed-wrapped\"><div class=\"sk-label-container\"><div class=\"sk-label sk-toggleable\"><input class=\"sk-toggleable__control sk-hidden--visually\" id=\"sk-estimator-id-15\" type=\"checkbox\" ><label for=\"sk-estimator-id-15\" class=\"sk-toggleable__label sk-toggleable__label-arrow\">encode: ColumnTransformer</label><div class=\"sk-toggleable__content\"><pre>ColumnTransformer(transformers=[(&#x27;num&#x27;, &#x27;passthrough&#x27;, slice(0, 7, None)),\n",
       "                                (&#x27;nom&#x27;, OneHotEncoder(handle_unknown=&#x27;ignore&#x27;),\n",
       "                                 slice(7, 15, None)),\n",
       "                                (&#x27;ord&#x27;,\n",
       "                                 OrdinalEncoder(categories=[[&#x27;illiterate&#x27;,\n",
       "                                                             &#x27;unknown&#x27;,\n",
       "                                                             &#x27;basic.4y&#x27;,\n",
       "                                                             &#x27;basic.6y&#x27;,\n",
       "                                                             &#x27;basic.9y&#x27;,\n",
       "                                                             &#x27;high.school&#x27;,\n",
       "                                                             &#x27;professional.course&#x27;,\n",
       "                                                             &#x27;university.degree&#x27;]]),\n",
       "                                 [15])])</pre></div></div></div><div class=\"sk-parallel\"><div class=\"sk-parallel-item\"><div class=\"sk-item\"><div class=\"sk-label-container\"><div class=\"sk-label sk-toggleable\"><input class=\"sk-toggleable__control sk-hidden--visually\" id=\"sk-estimator-id-16\" type=\"checkbox\" ><label for=\"sk-estimator-id-16\" class=\"sk-toggleable__label sk-toggleable__label-arrow\">num</label><div class=\"sk-toggleable__content\"><pre>slice(0, 7, None)</pre></div></div></div><div class=\"sk-serial\"><div class=\"sk-item\"><div class=\"sk-estimator sk-toggleable\"><input class=\"sk-toggleable__control sk-hidden--visually\" id=\"sk-estimator-id-17\" type=\"checkbox\" ><label for=\"sk-estimator-id-17\" class=\"sk-toggleable__label sk-toggleable__label-arrow\">passthrough</label><div class=\"sk-toggleable__content\"><pre>passthrough</pre></div></div></div></div></div></div><div class=\"sk-parallel-item\"><div class=\"sk-item\"><div class=\"sk-label-container\"><div class=\"sk-label sk-toggleable\"><input class=\"sk-toggleable__control sk-hidden--visually\" id=\"sk-estimator-id-18\" type=\"checkbox\" ><label for=\"sk-estimator-id-18\" class=\"sk-toggleable__label sk-toggleable__label-arrow\">nom</label><div class=\"sk-toggleable__content\"><pre>slice(7, 15, None)</pre></div></div></div><div class=\"sk-serial\"><div class=\"sk-item\"><div class=\"sk-estimator sk-toggleable\"><input class=\"sk-toggleable__control sk-hidden--visually\" id=\"sk-estimator-id-19\" type=\"checkbox\" ><label for=\"sk-estimator-id-19\" class=\"sk-toggleable__label sk-toggleable__label-arrow\">OneHotEncoder</label><div class=\"sk-toggleable__content\"><pre>OneHotEncoder(handle_unknown=&#x27;ignore&#x27;)</pre></div></div></div></div></div></div><div class=\"sk-parallel-item\"><div class=\"sk-item\"><div class=\"sk-label-container\"><div class=\"sk-label sk-toggleable\"><input class=\"sk-toggleable__control sk-hidden--visually\" id=\"sk-estimator-id-20\" type=\"checkbox\" ><label for=\"sk-estimator-id-20\" class=\"sk-toggleable__label sk-toggleable__label-arrow\">ord</label><div class=\"sk-toggleable__content\"><pre>[15]</pre></div></div></div><div class=\"sk-serial\"><div class=\"sk-item\"><div class=\"sk-estimator sk-toggleable\"><input class=\"sk-toggleable__control sk-hidden--visually\" id=\"sk-estimator-id-21\" type=\"checkbox\" ><label for=\"sk-estimator-id-21\" class=\"sk-toggleable__label sk-toggleable__label-arrow\">OrdinalEncoder</label><div class=\"sk-toggleable__content\"><pre>OrdinalEncoder(categories=[[&#x27;illiterate&#x27;, &#x27;unknown&#x27;, &#x27;basic.4y&#x27;, &#x27;basic.6y&#x27;,\n",
       "                            &#x27;basic.9y&#x27;, &#x27;high.school&#x27;, &#x27;professional.course&#x27;,\n",
       "                            &#x27;university.degree&#x27;]])</pre></div></div></div></div></div></div></div></div><div class=\"sk-item\"><div class=\"sk-estimator sk-toggleable\"><input class=\"sk-toggleable__control sk-hidden--visually\" id=\"sk-estimator-id-22\" type=\"checkbox\" ><label for=\"sk-estimator-id-22\" class=\"sk-toggleable__label sk-toggleable__label-arrow\">PCA</label><div class=\"sk-toggleable__content\"><pre>PCA(n_components=0.8, random_state=42)</pre></div></div></div><div class=\"sk-item\"><div class=\"sk-estimator sk-toggleable\"><input class=\"sk-toggleable__control sk-hidden--visually\" id=\"sk-estimator-id-23\" type=\"checkbox\" ><label for=\"sk-estimator-id-23\" class=\"sk-toggleable__label sk-toggleable__label-arrow\">RandomForestClassifier</label><div class=\"sk-toggleable__content\"><pre>RandomForestClassifier(max_depth=7, max_features=3, random_state=42)</pre></div></div></div></div></div></div></div>"
      ],
      "text/plain": [
       "Pipeline(steps=[('encode',\n",
       "                 ColumnTransformer(transformers=[('num', 'passthrough',\n",
       "                                                  slice(0, 7, None)),\n",
       "                                                 ('nom',\n",
       "                                                  OneHotEncoder(handle_unknown='ignore'),\n",
       "                                                  slice(7, 15, None)),\n",
       "                                                 ('ord',\n",
       "                                                  OrdinalEncoder(categories=[['illiterate',\n",
       "                                                                              'unknown',\n",
       "                                                                              'basic.4y',\n",
       "                                                                              'basic.6y',\n",
       "                                                                              'basic.9y',\n",
       "                                                                              'high.school',\n",
       "                                                                              'professional.course',\n",
       "                                                                              'university.degree']]),\n",
       "                                                  [15])])),\n",
       "                ('pca', PCA(n_components=0.8, random_state=42)),\n",
       "                ('final_rf',\n",
       "                 RandomForestClassifier(max_depth=7, max_features=3,\n",
       "                                        random_state=42))])"
      ]
     },
     "execution_count": 79,
     "metadata": {},
     "output_type": "execute_result"
    }
   ],
   "source": [
    "# create a pipeline for the final model\n",
    "final_rf_pipe = Pipeline([\n",
    "    ('encode', encode),\n",
    "    ('pca', pca),\n",
    "    ('final_rf', final_rf)\n",
    "])\n",
    "\n",
    "# fit the pipeline to the scaled and oversampled training data\n",
    "final_rf_pipe.fit(X_train_balanced, y_train_final)"
   ]
  },
  {
   "cell_type": "code",
   "execution_count": 81,
   "metadata": {},
   "outputs": [
    {
     "data": {
      "text/plain": [
       "['models/final_rf_pipe.pkl']"
      ]
     },
     "execution_count": 81,
     "metadata": {},
     "output_type": "execute_result"
    }
   ],
   "source": [
    "# prepare directory for saving model\n",
    "model_dir = 'models'\n",
    "scaler_name = 'scaler.pkl'\n",
    "model_name = 'final_rf_pipe.pkl'\n",
    "\n",
    "# create directory if it does not exist\n",
    "Path(model_dir).mkdir(parents=True, exist_ok=True)\n",
    "\n",
    "# save models\n",
    "joblib.dump(scale_mm, Path(model_dir, scaler_name))\n",
    "joblib.dump(final_rf_pipe, Path(model_dir, model_name))"
   ]
  },
  {
   "cell_type": "markdown",
   "metadata": {},
   "source": [
    "# 9. Model Inference"
   ]
  },
  {
   "cell_type": "markdown",
   "metadata": {},
   "source": [
    "## Load The Model"
   ]
  },
  {
   "cell_type": "code",
   "execution_count": 82,
   "metadata": {},
   "outputs": [],
   "source": [
    "# model location\n",
    "model_dir = 'models'\n",
    "scaler_name = 'scaler.pkl'\n",
    "model_name = 'final_rf_pipe.pkl'\n",
    "scaler_path = Path(model_dir, scaler_name)\n",
    "model_path = Path(model_dir, model_name)\n",
    "\n",
    "# load model\n",
    "scaler = joblib.load(scaler_path)\n",
    "final_model = joblib.load(model_path)"
   ]
  },
  {
   "cell_type": "code",
   "execution_count": 83,
   "metadata": {},
   "outputs": [
    {
     "data": {
      "text/html": [
       "<div>\n",
       "<style scoped>\n",
       "    .dataframe tbody tr th:only-of-type {\n",
       "        vertical-align: middle;\n",
       "    }\n",
       "\n",
       "    .dataframe tbody tr th {\n",
       "        vertical-align: top;\n",
       "    }\n",
       "\n",
       "    .dataframe thead th {\n",
       "        text-align: right;\n",
       "    }\n",
       "</style>\n",
       "<table border=\"1\" class=\"dataframe\">\n",
       "  <thead>\n",
       "    <tr style=\"text-align: right;\">\n",
       "      <th></th>\n",
       "      <th>age</th>\n",
       "      <th>job</th>\n",
       "      <th>marital</th>\n",
       "      <th>education</th>\n",
       "      <th>default</th>\n",
       "      <th>housing</th>\n",
       "      <th>loan</th>\n",
       "      <th>contact</th>\n",
       "      <th>month</th>\n",
       "      <th>day_of_week</th>\n",
       "      <th>...</th>\n",
       "      <th>campaign</th>\n",
       "      <th>pdays</th>\n",
       "      <th>previous</th>\n",
       "      <th>poutcome</th>\n",
       "      <th>emp_var_rate</th>\n",
       "      <th>cons_price_idx</th>\n",
       "      <th>cons_conf_idx</th>\n",
       "      <th>euribor3m</th>\n",
       "      <th>nr_employed</th>\n",
       "      <th>y</th>\n",
       "    </tr>\n",
       "  </thead>\n",
       "  <tbody>\n",
       "    <tr>\n",
       "      <th>0</th>\n",
       "      <td>57</td>\n",
       "      <td>technician</td>\n",
       "      <td>married</td>\n",
       "      <td>high.school</td>\n",
       "      <td>no</td>\n",
       "      <td>no</td>\n",
       "      <td>yes</td>\n",
       "      <td>cellular</td>\n",
       "      <td>may</td>\n",
       "      <td>mon</td>\n",
       "      <td>...</td>\n",
       "      <td>1</td>\n",
       "      <td>999</td>\n",
       "      <td>1</td>\n",
       "      <td>failure</td>\n",
       "      <td>-1.8</td>\n",
       "      <td>92.89</td>\n",
       "      <td>-46.2</td>\n",
       "      <td>1.30</td>\n",
       "      <td>5099.1</td>\n",
       "      <td>no</td>\n",
       "    </tr>\n",
       "    <tr>\n",
       "      <th>1</th>\n",
       "      <td>55</td>\n",
       "      <td>unknown</td>\n",
       "      <td>married</td>\n",
       "      <td>unknown</td>\n",
       "      <td>unknown</td>\n",
       "      <td>yes</td>\n",
       "      <td>no</td>\n",
       "      <td>telephone</td>\n",
       "      <td>may</td>\n",
       "      <td>thu</td>\n",
       "      <td>...</td>\n",
       "      <td>2</td>\n",
       "      <td>999</td>\n",
       "      <td>0</td>\n",
       "      <td>nonexistent</td>\n",
       "      <td>1.1</td>\n",
       "      <td>93.99</td>\n",
       "      <td>-36.4</td>\n",
       "      <td>4.86</td>\n",
       "      <td>5191.0</td>\n",
       "      <td>no</td>\n",
       "    </tr>\n",
       "    <tr>\n",
       "      <th>2</th>\n",
       "      <td>33</td>\n",
       "      <td>blue-collar</td>\n",
       "      <td>married</td>\n",
       "      <td>basic.9y</td>\n",
       "      <td>no</td>\n",
       "      <td>no</td>\n",
       "      <td>no</td>\n",
       "      <td>cellular</td>\n",
       "      <td>may</td>\n",
       "      <td>fri</td>\n",
       "      <td>...</td>\n",
       "      <td>1</td>\n",
       "      <td>999</td>\n",
       "      <td>1</td>\n",
       "      <td>failure</td>\n",
       "      <td>-1.8</td>\n",
       "      <td>92.89</td>\n",
       "      <td>-46.2</td>\n",
       "      <td>1.31</td>\n",
       "      <td>5099.1</td>\n",
       "      <td>no</td>\n",
       "    </tr>\n",
       "    <tr>\n",
       "      <th>3</th>\n",
       "      <td>36</td>\n",
       "      <td>admin.</td>\n",
       "      <td>married</td>\n",
       "      <td>high.school</td>\n",
       "      <td>no</td>\n",
       "      <td>no</td>\n",
       "      <td>no</td>\n",
       "      <td>telephone</td>\n",
       "      <td>jun</td>\n",
       "      <td>fri</td>\n",
       "      <td>...</td>\n",
       "      <td>4</td>\n",
       "      <td>999</td>\n",
       "      <td>0</td>\n",
       "      <td>nonexistent</td>\n",
       "      <td>1.4</td>\n",
       "      <td>94.47</td>\n",
       "      <td>-41.8</td>\n",
       "      <td>4.97</td>\n",
       "      <td>5228.1</td>\n",
       "      <td>no</td>\n",
       "    </tr>\n",
       "    <tr>\n",
       "      <th>4</th>\n",
       "      <td>27</td>\n",
       "      <td>housemaid</td>\n",
       "      <td>married</td>\n",
       "      <td>high.school</td>\n",
       "      <td>no</td>\n",
       "      <td>yes</td>\n",
       "      <td>no</td>\n",
       "      <td>cellular</td>\n",
       "      <td>jul</td>\n",
       "      <td>fri</td>\n",
       "      <td>...</td>\n",
       "      <td>2</td>\n",
       "      <td>999</td>\n",
       "      <td>0</td>\n",
       "      <td>nonexistent</td>\n",
       "      <td>1.4</td>\n",
       "      <td>93.92</td>\n",
       "      <td>-42.7</td>\n",
       "      <td>4.96</td>\n",
       "      <td>5228.1</td>\n",
       "      <td>no</td>\n",
       "    </tr>\n",
       "  </tbody>\n",
       "</table>\n",
       "<p>5 rows × 21 columns</p>\n",
       "</div>"
      ],
      "text/plain": [
       "   age          job  marital    education  default housing loan    contact  \\\n",
       "0   57   technician  married  high.school       no      no  yes   cellular   \n",
       "1   55      unknown  married      unknown  unknown     yes   no  telephone   \n",
       "2   33  blue-collar  married     basic.9y       no      no   no   cellular   \n",
       "3   36       admin.  married  high.school       no      no   no  telephone   \n",
       "4   27    housemaid  married  high.school       no     yes   no   cellular   \n",
       "\n",
       "  month day_of_week  ...  campaign  pdays  previous     poutcome emp_var_rate  \\\n",
       "0   may         mon  ...         1    999         1      failure         -1.8   \n",
       "1   may         thu  ...         2    999         0  nonexistent          1.1   \n",
       "2   may         fri  ...         1    999         1      failure         -1.8   \n",
       "3   jun         fri  ...         4    999         0  nonexistent          1.4   \n",
       "4   jul         fri  ...         2    999         0  nonexistent          1.4   \n",
       "\n",
       "   cons_price_idx  cons_conf_idx  euribor3m  nr_employed   y  \n",
       "0           92.89          -46.2       1.30       5099.1  no  \n",
       "1           93.99          -36.4       4.86       5191.0  no  \n",
       "2           92.89          -46.2       1.31       5099.1  no  \n",
       "3           94.47          -41.8       4.97       5228.1  no  \n",
       "4           93.92          -42.7       4.96       5228.1  no  \n",
       "\n",
       "[5 rows x 21 columns]"
      ]
     },
     "execution_count": 83,
     "metadata": {},
     "output_type": "execute_result"
    }
   ],
   "source": [
    "# display inference set\n",
    "df_inf.head()"
   ]
  },
  {
   "cell_type": "markdown",
   "metadata": {},
   "source": [
    "## Inferencing"
   ]
  },
  {
   "cell_type": "code",
   "execution_count": 86,
   "metadata": {},
   "outputs": [
    {
     "name": "stdout",
     "output_type": "stream",
     "text": [
      "CPU times: user 30 ms, sys: 846 µs, total: 30.9 ms\n",
      "Wall time: 29.7 ms\n"
     ]
    }
   ],
   "source": [
    "%%time\n",
    "\n",
    "# scale the inference set\n",
    "df_inf_scaled = scaler.transform(df_inf)\n",
    "\n",
    "# predict inference set using the final model\n",
    "y_pred_inf = final_model.predict(df_inf_scaled)"
   ]
  },
  {
   "cell_type": "code",
   "execution_count": 87,
   "metadata": {},
   "outputs": [
    {
     "data": {
      "text/html": [
       "<div>\n",
       "<style scoped>\n",
       "    .dataframe tbody tr th:only-of-type {\n",
       "        vertical-align: middle;\n",
       "    }\n",
       "\n",
       "    .dataframe tbody tr th {\n",
       "        vertical-align: top;\n",
       "    }\n",
       "\n",
       "    .dataframe thead th {\n",
       "        text-align: right;\n",
       "    }\n",
       "</style>\n",
       "<table border=\"1\" class=\"dataframe\">\n",
       "  <thead>\n",
       "    <tr style=\"text-align: right;\">\n",
       "      <th></th>\n",
       "      <th>age</th>\n",
       "      <th>job</th>\n",
       "      <th>marital</th>\n",
       "      <th>education</th>\n",
       "      <th>default</th>\n",
       "      <th>housing</th>\n",
       "      <th>loan</th>\n",
       "      <th>contact</th>\n",
       "      <th>month</th>\n",
       "      <th>day_of_week</th>\n",
       "      <th>...</th>\n",
       "      <th>pdays</th>\n",
       "      <th>previous</th>\n",
       "      <th>poutcome</th>\n",
       "      <th>emp_var_rate</th>\n",
       "      <th>cons_price_idx</th>\n",
       "      <th>cons_conf_idx</th>\n",
       "      <th>euribor3m</th>\n",
       "      <th>nr_employed</th>\n",
       "      <th>y</th>\n",
       "      <th>pred</th>\n",
       "    </tr>\n",
       "  </thead>\n",
       "  <tbody>\n",
       "    <tr>\n",
       "      <th>0</th>\n",
       "      <td>57</td>\n",
       "      <td>technician</td>\n",
       "      <td>married</td>\n",
       "      <td>high.school</td>\n",
       "      <td>no</td>\n",
       "      <td>no</td>\n",
       "      <td>yes</td>\n",
       "      <td>cellular</td>\n",
       "      <td>may</td>\n",
       "      <td>mon</td>\n",
       "      <td>...</td>\n",
       "      <td>999</td>\n",
       "      <td>1</td>\n",
       "      <td>failure</td>\n",
       "      <td>-1.8</td>\n",
       "      <td>92.89</td>\n",
       "      <td>-46.2</td>\n",
       "      <td>1.30</td>\n",
       "      <td>5099.1</td>\n",
       "      <td>no</td>\n",
       "      <td>0</td>\n",
       "    </tr>\n",
       "    <tr>\n",
       "      <th>1</th>\n",
       "      <td>55</td>\n",
       "      <td>unknown</td>\n",
       "      <td>married</td>\n",
       "      <td>unknown</td>\n",
       "      <td>unknown</td>\n",
       "      <td>yes</td>\n",
       "      <td>no</td>\n",
       "      <td>telephone</td>\n",
       "      <td>may</td>\n",
       "      <td>thu</td>\n",
       "      <td>...</td>\n",
       "      <td>999</td>\n",
       "      <td>0</td>\n",
       "      <td>nonexistent</td>\n",
       "      <td>1.1</td>\n",
       "      <td>93.99</td>\n",
       "      <td>-36.4</td>\n",
       "      <td>4.86</td>\n",
       "      <td>5191.0</td>\n",
       "      <td>no</td>\n",
       "      <td>0</td>\n",
       "    </tr>\n",
       "    <tr>\n",
       "      <th>2</th>\n",
       "      <td>33</td>\n",
       "      <td>blue-collar</td>\n",
       "      <td>married</td>\n",
       "      <td>basic.9y</td>\n",
       "      <td>no</td>\n",
       "      <td>no</td>\n",
       "      <td>no</td>\n",
       "      <td>cellular</td>\n",
       "      <td>may</td>\n",
       "      <td>fri</td>\n",
       "      <td>...</td>\n",
       "      <td>999</td>\n",
       "      <td>1</td>\n",
       "      <td>failure</td>\n",
       "      <td>-1.8</td>\n",
       "      <td>92.89</td>\n",
       "      <td>-46.2</td>\n",
       "      <td>1.31</td>\n",
       "      <td>5099.1</td>\n",
       "      <td>no</td>\n",
       "      <td>1</td>\n",
       "    </tr>\n",
       "    <tr>\n",
       "      <th>3</th>\n",
       "      <td>36</td>\n",
       "      <td>admin.</td>\n",
       "      <td>married</td>\n",
       "      <td>high.school</td>\n",
       "      <td>no</td>\n",
       "      <td>no</td>\n",
       "      <td>no</td>\n",
       "      <td>telephone</td>\n",
       "      <td>jun</td>\n",
       "      <td>fri</td>\n",
       "      <td>...</td>\n",
       "      <td>999</td>\n",
       "      <td>0</td>\n",
       "      <td>nonexistent</td>\n",
       "      <td>1.4</td>\n",
       "      <td>94.47</td>\n",
       "      <td>-41.8</td>\n",
       "      <td>4.97</td>\n",
       "      <td>5228.1</td>\n",
       "      <td>no</td>\n",
       "      <td>0</td>\n",
       "    </tr>\n",
       "    <tr>\n",
       "      <th>4</th>\n",
       "      <td>27</td>\n",
       "      <td>housemaid</td>\n",
       "      <td>married</td>\n",
       "      <td>high.school</td>\n",
       "      <td>no</td>\n",
       "      <td>yes</td>\n",
       "      <td>no</td>\n",
       "      <td>cellular</td>\n",
       "      <td>jul</td>\n",
       "      <td>fri</td>\n",
       "      <td>...</td>\n",
       "      <td>999</td>\n",
       "      <td>0</td>\n",
       "      <td>nonexistent</td>\n",
       "      <td>1.4</td>\n",
       "      <td>93.92</td>\n",
       "      <td>-42.7</td>\n",
       "      <td>4.96</td>\n",
       "      <td>5228.1</td>\n",
       "      <td>no</td>\n",
       "      <td>1</td>\n",
       "    </tr>\n",
       "    <tr>\n",
       "      <th>5</th>\n",
       "      <td>58</td>\n",
       "      <td>retired</td>\n",
       "      <td>married</td>\n",
       "      <td>professional.course</td>\n",
       "      <td>no</td>\n",
       "      <td>yes</td>\n",
       "      <td>yes</td>\n",
       "      <td>cellular</td>\n",
       "      <td>jul</td>\n",
       "      <td>fri</td>\n",
       "      <td>...</td>\n",
       "      <td>999</td>\n",
       "      <td>0</td>\n",
       "      <td>nonexistent</td>\n",
       "      <td>1.4</td>\n",
       "      <td>93.92</td>\n",
       "      <td>-42.7</td>\n",
       "      <td>4.96</td>\n",
       "      <td>5228.1</td>\n",
       "      <td>no</td>\n",
       "      <td>0</td>\n",
       "    </tr>\n",
       "    <tr>\n",
       "      <th>6</th>\n",
       "      <td>48</td>\n",
       "      <td>services</td>\n",
       "      <td>married</td>\n",
       "      <td>high.school</td>\n",
       "      <td>unknown</td>\n",
       "      <td>yes</td>\n",
       "      <td>no</td>\n",
       "      <td>telephone</td>\n",
       "      <td>may</td>\n",
       "      <td>wed</td>\n",
       "      <td>...</td>\n",
       "      <td>999</td>\n",
       "      <td>0</td>\n",
       "      <td>nonexistent</td>\n",
       "      <td>1.1</td>\n",
       "      <td>93.99</td>\n",
       "      <td>-36.4</td>\n",
       "      <td>4.86</td>\n",
       "      <td>5191.0</td>\n",
       "      <td>no</td>\n",
       "      <td>0</td>\n",
       "    </tr>\n",
       "    <tr>\n",
       "      <th>7</th>\n",
       "      <td>51</td>\n",
       "      <td>admin.</td>\n",
       "      <td>divorced</td>\n",
       "      <td>university.degree</td>\n",
       "      <td>unknown</td>\n",
       "      <td>yes</td>\n",
       "      <td>no</td>\n",
       "      <td>cellular</td>\n",
       "      <td>aug</td>\n",
       "      <td>thu</td>\n",
       "      <td>...</td>\n",
       "      <td>999</td>\n",
       "      <td>0</td>\n",
       "      <td>nonexistent</td>\n",
       "      <td>1.4</td>\n",
       "      <td>93.44</td>\n",
       "      <td>-36.1</td>\n",
       "      <td>4.96</td>\n",
       "      <td>5228.1</td>\n",
       "      <td>no</td>\n",
       "      <td>0</td>\n",
       "    </tr>\n",
       "    <tr>\n",
       "      <th>8</th>\n",
       "      <td>24</td>\n",
       "      <td>entrepreneur</td>\n",
       "      <td>married</td>\n",
       "      <td>university.degree</td>\n",
       "      <td>no</td>\n",
       "      <td>yes</td>\n",
       "      <td>yes</td>\n",
       "      <td>telephone</td>\n",
       "      <td>jun</td>\n",
       "      <td>wed</td>\n",
       "      <td>...</td>\n",
       "      <td>999</td>\n",
       "      <td>0</td>\n",
       "      <td>nonexistent</td>\n",
       "      <td>1.4</td>\n",
       "      <td>94.47</td>\n",
       "      <td>-41.8</td>\n",
       "      <td>4.96</td>\n",
       "      <td>5228.1</td>\n",
       "      <td>no</td>\n",
       "      <td>0</td>\n",
       "    </tr>\n",
       "    <tr>\n",
       "      <th>9</th>\n",
       "      <td>36</td>\n",
       "      <td>technician</td>\n",
       "      <td>divorced</td>\n",
       "      <td>professional.course</td>\n",
       "      <td>no</td>\n",
       "      <td>yes</td>\n",
       "      <td>yes</td>\n",
       "      <td>cellular</td>\n",
       "      <td>jul</td>\n",
       "      <td>mon</td>\n",
       "      <td>...</td>\n",
       "      <td>999</td>\n",
       "      <td>0</td>\n",
       "      <td>nonexistent</td>\n",
       "      <td>1.4</td>\n",
       "      <td>93.92</td>\n",
       "      <td>-42.7</td>\n",
       "      <td>4.96</td>\n",
       "      <td>5228.1</td>\n",
       "      <td>no</td>\n",
       "      <td>0</td>\n",
       "    </tr>\n",
       "  </tbody>\n",
       "</table>\n",
       "<p>10 rows × 22 columns</p>\n",
       "</div>"
      ],
      "text/plain": [
       "   age           job   marital            education  default housing loan  \\\n",
       "0   57    technician   married          high.school       no      no  yes   \n",
       "1   55       unknown   married              unknown  unknown     yes   no   \n",
       "2   33   blue-collar   married             basic.9y       no      no   no   \n",
       "3   36        admin.   married          high.school       no      no   no   \n",
       "4   27     housemaid   married          high.school       no     yes   no   \n",
       "5   58       retired   married  professional.course       no     yes  yes   \n",
       "6   48      services   married          high.school  unknown     yes   no   \n",
       "7   51        admin.  divorced    university.degree  unknown     yes   no   \n",
       "8   24  entrepreneur   married    university.degree       no     yes  yes   \n",
       "9   36    technician  divorced  professional.course       no     yes  yes   \n",
       "\n",
       "     contact month day_of_week  ...  pdays  previous     poutcome  \\\n",
       "0   cellular   may         mon  ...    999         1      failure   \n",
       "1  telephone   may         thu  ...    999         0  nonexistent   \n",
       "2   cellular   may         fri  ...    999         1      failure   \n",
       "3  telephone   jun         fri  ...    999         0  nonexistent   \n",
       "4   cellular   jul         fri  ...    999         0  nonexistent   \n",
       "5   cellular   jul         fri  ...    999         0  nonexistent   \n",
       "6  telephone   may         wed  ...    999         0  nonexistent   \n",
       "7   cellular   aug         thu  ...    999         0  nonexistent   \n",
       "8  telephone   jun         wed  ...    999         0  nonexistent   \n",
       "9   cellular   jul         mon  ...    999         0  nonexistent   \n",
       "\n",
       "   emp_var_rate cons_price_idx  cons_conf_idx  euribor3m  nr_employed   y  \\\n",
       "0          -1.8          92.89          -46.2       1.30       5099.1  no   \n",
       "1           1.1          93.99          -36.4       4.86       5191.0  no   \n",
       "2          -1.8          92.89          -46.2       1.31       5099.1  no   \n",
       "3           1.4          94.47          -41.8       4.97       5228.1  no   \n",
       "4           1.4          93.92          -42.7       4.96       5228.1  no   \n",
       "5           1.4          93.92          -42.7       4.96       5228.1  no   \n",
       "6           1.1          93.99          -36.4       4.86       5191.0  no   \n",
       "7           1.4          93.44          -36.1       4.96       5228.1  no   \n",
       "8           1.4          94.47          -41.8       4.96       5228.1  no   \n",
       "9           1.4          93.92          -42.7       4.96       5228.1  no   \n",
       "\n",
       "   pred  \n",
       "0     0  \n",
       "1     0  \n",
       "2     1  \n",
       "3     0  \n",
       "4     1  \n",
       "5     0  \n",
       "6     0  \n",
       "7     0  \n",
       "8     0  \n",
       "9     0  \n",
       "\n",
       "[10 rows x 22 columns]"
      ]
     },
     "execution_count": 87,
     "metadata": {},
     "output_type": "execute_result"
    }
   ],
   "source": [
    "# create dataframe with predictions\n",
    "df_inf['pred'] = y_pred_inf\n",
    "\n",
    "# display inference set\n",
    "df_inf"
   ]
  },
  {
   "cell_type": "markdown",
   "metadata": {},
   "source": [
    "Model successfully run on inference dataset"
   ]
  },
  {
   "cell_type": "markdown",
   "metadata": {},
   "source": [
    "# 10. Conclusion"
   ]
  },
  {
   "cell_type": "markdown",
   "metadata": {},
   "source": [
    "## On EDA\n",
    "- pass"
   ]
  },
  {
   "cell_type": "markdown",
   "metadata": {},
   "source": [
    "## On Modeling\n",
    "- pass"
   ]
  },
  {
   "cell_type": "markdown",
   "metadata": {},
   "source": [
    "## Implication\n",
    "- pass"
   ]
  },
  {
   "cell_type": "markdown",
   "metadata": {},
   "source": [
    "## Future Improvement\n",
    "- pass"
   ]
  }
 ],
 "metadata": {
  "interpreter": {
   "hash": "57744ed932a5da4ffb7d5879d9b65170d321805180660db910f737e8fd70cf58"
  },
  "kernelspec": {
   "display_name": "Python 3.9.12 (conda)",
   "language": "python",
   "name": "python3"
  },
  "language_info": {
   "codemirror_mode": {
    "name": "ipython",
    "version": 3
   },
   "file_extension": ".py",
   "mimetype": "text/x-python",
   "name": "python",
   "nbconvert_exporter": "python",
   "pygments_lexer": "ipython3",
   "version": "3.8.13"
  },
  "orig_nbformat": 4
 },
 "nbformat": 4,
 "nbformat_minor": 2
}
